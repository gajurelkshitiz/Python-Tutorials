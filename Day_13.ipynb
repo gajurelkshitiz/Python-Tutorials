{
 "cells": [
  {
   "cell_type": "markdown",
   "metadata": {},
   "source": [
    "### Multithreading:\n",
    "\n",
    "    Used to perform multiple tasks concurrently (multitasking)\n",
    "\n",
    "    Good for I/O bound tasks like reading files or fetching data from APIs\n",
    "\n",
    "    threading.Thread(target=my_function)"
   ]
  },
  {
   "cell_type": "code",
   "execution_count": 3,
   "metadata": {},
   "outputs": [
    {
     "name": "stdout",
     "output_type": "stream",
     "text": [
      "You finishing walking the dog.\n",
      "You take out the trash.\n",
      "You get the mail.\n",
      "Execution time: 0.0\n"
     ]
    }
   ],
   "source": [
    "import threading\n",
    "import time\n",
    "\n",
    "def walk_dog():\n",
    "    print(\"You finishing walking the dog.\")\n",
    "    \n",
    "def take_out_trash():\n",
    "    print(\"You take out the trash.\")\n",
    "    \n",
    "def get_mail():\n",
    "    print(\"You get the mail.\")\n",
    "    \n",
    "#lets check the time:\n",
    "\n",
    "start = time.time() \n",
    "walk_dog()\n",
    "take_out_trash()\n",
    "get_mail()\n",
    "end = time.time()\n",
    "\n",
    "print(f\"Execution time: {end-start}\")"
   ]
  },
  {
   "cell_type": "code",
   "execution_count": 4,
   "metadata": {},
   "outputs": [
    {
     "name": "stdout",
     "output_type": "stream",
     "text": [
      "You finishing walking the dog.\n",
      "You take out the trash.\n",
      "You get the mail.\n",
      "Execution time: 14.00275468826294\n"
     ]
    }
   ],
   "source": [
    "import threading\n",
    "import time\n",
    "\n",
    "def walk_dog():\n",
    "    time.sleep(8)\n",
    "    print(\"You finishing walking the dog.\")\n",
    "    \n",
    "def take_out_trash():\n",
    "    time.sleep(2)\n",
    "    print(\"You take out the trash.\")\n",
    "    \n",
    "def get_mail():\n",
    "    time.sleep(4)\n",
    "    print(\"You get the mail.\")\n",
    "    \n",
    "#lets check the time:\n",
    "\n",
    "start = time.time() \n",
    "walk_dog()\n",
    "take_out_trash()\n",
    "get_mail()\n",
    "end = time.time()\n",
    "\n",
    "print(f\"Execution time: {end-start}\")"
   ]
  },
  {
   "cell_type": "code",
   "execution_count": null,
   "metadata": {},
   "outputs": [
    {
     "name": "stdout",
     "output_type": "stream",
     "text": [
      "Execution time: 0.009446144104003906\n"
     ]
    },
    {
     "name": "stdout",
     "output_type": "stream",
     "text": [
      "You take out the trash.\n",
      "You get the mail.\n",
      "You finishing walking the dog.\n"
     ]
    }
   ],
   "source": [
    "# Multi-threading:\n",
    "\n",
    "import threading\n",
    "import time\n",
    "\n",
    "def walk_dog():\n",
    "    time.sleep(8)\n",
    "    print(\"You finishing walking the dog.\")\n",
    "    \n",
    "def take_out_trash():\n",
    "    time.sleep(2)\n",
    "    print(\"You take out the trash.\")\n",
    "    \n",
    "def get_mail():\n",
    "    time.sleep(4)\n",
    "    print(\"You get the mail.\")\n",
    "    \n",
    "#lets check the time:\n",
    "\n",
    "start = time.time() \n",
    "\n",
    "chore1 = threading.Thread(target=walk_dog)\n",
    "chore1.start()\n",
    "chore2 = threading.Thread(target=take_out_trash)\n",
    "chore2.start()\n",
    "chore3 = threading.Thread(target=get_mail)\n",
    "chore3.start()\n",
    "\n",
    "end = time.time()\n",
    "\n",
    "\n",
    "print(f\"Execution time: {end-start}\")\n"
   ]
  },
  {
   "cell_type": "code",
   "execution_count": 8,
   "metadata": {},
   "outputs": [
    {
     "name": "stdout",
     "output_type": "stream",
     "text": [
      "You take out the trash.\n",
      "You get the mail.\n",
      "You finishing walking the dog.\n",
      "Execution time: 8.007941246032715\n"
     ]
    }
   ],
   "source": [
    "# Multi-threading:\n",
    "\n",
    "import threading\n",
    "import time\n",
    "\n",
    "def walk_dog():\n",
    "    time.sleep(8)\n",
    "    print(\"You finishing walking the dog.\")\n",
    "    \n",
    "def take_out_trash():\n",
    "    time.sleep(2)\n",
    "    print(\"You take out the trash.\")\n",
    "    \n",
    "def get_mail():\n",
    "    time.sleep(4)\n",
    "    print(\"You get the mail.\")\n",
    "    \n",
    "#lets check the time:\n",
    "\n",
    "start = time.time() \n",
    "\n",
    "chore1 = threading.Thread(target=walk_dog)\n",
    "chore1.start()\n",
    "chore2 = threading.Thread(target=take_out_trash)\n",
    "chore2.start()\n",
    "chore3 = threading.Thread(target=get_mail)\n",
    "chore3.start()\n",
    "\n",
    "\n",
    "chore1.join()\n",
    "chore2.join()\n",
    "chore3.join()\n",
    "end = time.time()\n",
    "\n",
    "print(f\"Execution time: {end-start}\")\n"
   ]
  },
  {
   "cell_type": "code",
   "execution_count": null,
   "metadata": {},
   "outputs": [],
   "source": []
  }
 ],
 "metadata": {
  "kernelspec": {
   "display_name": "Python 3",
   "language": "python",
   "name": "python3"
  },
  "language_info": {
   "codemirror_mode": {
    "name": "ipython",
    "version": 3
   },
   "file_extension": ".py",
   "mimetype": "text/x-python",
   "name": "python",
   "nbconvert_exporter": "python",
   "pygments_lexer": "ipython3",
   "version": "3.12.2"
  }
 },
 "nbformat": 4,
 "nbformat_minor": 2
}
