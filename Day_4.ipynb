{
 "cells": [
  {
   "cell_type": "markdown",
   "metadata": {},
   "source": [
    "#### Shopping Cart Program"
   ]
  },
  {
   "cell_type": "code",
   "execution_count": 5,
   "metadata": {},
   "outputs": [
    {
     "name": "stdout",
     "output_type": "stream",
     "text": [
      "------- YOUR CART -------\n",
      "chocolate    chips    pizza    \n",
      "--------------------------\n",
      "Your total payment is: 490.0\n"
     ]
    }
   ],
   "source": [
    "foods = []\n",
    "prices = []\n",
    "total = 0\n",
    "\n",
    "\n",
    "\n",
    "while True:\n",
    "    food = input(\"Enter the food you want to buy: (q to Quit): \")\n",
    "    if food.lower() == \"q\":\n",
    "        break\n",
    "    else:\n",
    "        price = float(input(f\"Enter the price of a {food}: Rs.\"))\n",
    "        foods.append(food)\n",
    "        prices.append(price)\n",
    "    \n",
    "print(\"------- YOUR CART -------\")\n",
    "for food in foods:\n",
    "    print(food, end=\"    \")\n",
    "\n",
    "    \n",
    "for price in prices:\n",
    "    total += price\n",
    "    \n",
    "print(\"\\n--------------------------\")\n",
    "print(f\"Your total payment is: {total}\")"
   ]
  },
  {
   "cell_type": "code",
   "execution_count": null,
   "metadata": {},
   "outputs": [],
   "source": []
  },
  {
   "cell_type": "markdown",
   "metadata": {},
   "source": [
    "### 2D list\n"
   ]
  },
  {
   "cell_type": "code",
   "execution_count": 8,
   "metadata": {},
   "outputs": [],
   "source": [
    "fruits = [\"apple\",\"orange\",\"banana\",\"coconut\"]\n",
    "vegetables = [\"celery\",\"carrots\",\"potatoes\"]\n",
    "meats = [\"chicken\",\"fish\",\"turkey\"]\n",
    "\n",
    "groceries = [fruits,vegetables,meats]"
   ]
  },
  {
   "cell_type": "code",
   "execution_count": 10,
   "metadata": {},
   "outputs": [
    {
     "name": "stdout",
     "output_type": "stream",
     "text": [
      "[['apple', 'orange', 'banana', 'coconut'], ['celery', 'carrots', 'potatoes'], ['chicken', 'fish', 'turkey']]\n"
     ]
    }
   ],
   "source": [
    "print(groceries)"
   ]
  },
  {
   "cell_type": "code",
   "execution_count": 12,
   "metadata": {},
   "outputs": [
    {
     "data": {
      "text/plain": [
       "'orange'"
      ]
     },
     "execution_count": 12,
     "metadata": {},
     "output_type": "execute_result"
    }
   ],
   "source": [
    "groceries[0][1]"
   ]
  },
  {
   "cell_type": "code",
   "execution_count": 13,
   "metadata": {},
   "outputs": [
    {
     "data": {
      "text/plain": [
       "[['apple', 'orange', 'banana', 'coconut'], ['celery', 'carrots', 'potatoes']]"
      ]
     },
     "execution_count": 13,
     "metadata": {},
     "output_type": "execute_result"
    }
   ],
   "source": [
    "groceries[:2]"
   ]
  },
  {
   "cell_type": "code",
   "execution_count": 15,
   "metadata": {},
   "outputs": [
    {
     "name": "stdout",
     "output_type": "stream",
     "text": [
      "apple orange banana coconut \n",
      "celery carrots potatoes \n",
      "chicken fish turkey \n"
     ]
    }
   ],
   "source": [
    "for collection in groceries:\n",
    "    for food in collection:\n",
    "        print(food, end=\" \")\n",
    "    print()"
   ]
  },
  {
   "cell_type": "code",
   "execution_count": 17,
   "metadata": {},
   "outputs": [
    {
     "name": "stdout",
     "output_type": "stream",
     "text": [
      "[('apple', 'orange', 'banana', 'coconut'), ('celery', 'carrots', 'potatoes'), ('chicken', 'fish', 'turkey')]\n"
     ]
    }
   ],
   "source": [
    "groceries = [(\"apple\",\"orange\",\"banana\",\"coconut\"),\n",
    "             (\"celery\",\"carrots\",\"potatoes\"),\n",
    "             (\"chicken\",\"fish\",\"turkey\")]\n",
    "\n",
    "print(groceries)"
   ]
  },
  {
   "cell_type": "code",
   "execution_count": 20,
   "metadata": {},
   "outputs": [
    {
     "name": "stdout",
     "output_type": "stream",
     "text": [
      "('chicken', 'fish', 'turkey')\n",
      "('celery', 'carrots', 'potatoes')\n",
      "('apple', 'orange', 'banana', 'coconut')\n"
     ]
    }
   ],
   "source": [
    "for row in groceries[::-1]:\n",
    "    print(row)"
   ]
  },
  {
   "cell_type": "code",
   "execution_count": 21,
   "metadata": {},
   "outputs": [],
   "source": [
    "groceries = ((\"apple\",\"orange\",\"banana\",\"coconut\"),\n",
    "             (\"celery\",\"carrots\",\"potatoes\"),\n",
    "             (\"chicken\",\"fish\",\"turkey\"))"
   ]
  },
  {
   "cell_type": "code",
   "execution_count": 22,
   "metadata": {},
   "outputs": [],
   "source": [
    "groceries = ({\"apple\",\"orange\",\"banana\",\"coconut\"},\n",
    "             {\"celery\",\"carrots\",\"potatoes\"},\n",
    "             {\"chicken\",\"fish\",\"turkey\"})"
   ]
  },
  {
   "cell_type": "markdown",
   "metadata": {},
   "source": [
    "#### Write a program to create a 2D Keypad similar to phone."
   ]
  },
  {
   "cell_type": "code",
   "execution_count": 23,
   "metadata": {},
   "outputs": [],
   "source": [
    "row1 = (\"1\",\"2\",\"3\")\n",
    "row2 = (\"4\",\"5\",\"6\")\n",
    "row3 = (\"5\",\"6\",\"7\")\n",
    "row4 = (\"*\",\"0\",\"#\")\n",
    "\n",
    "keypad = (row1,row2,row3,row4)"
   ]
  },
  {
   "cell_type": "code",
   "execution_count": 24,
   "metadata": {},
   "outputs": [
    {
     "data": {
      "text/plain": [
       "(('1', '2', '3'), ('4', '5', '6'), ('5', '6', '7'), ('*', '0', '#'))"
      ]
     },
     "execution_count": 24,
     "metadata": {},
     "output_type": "execute_result"
    }
   ],
   "source": [
    "keypad"
   ]
  },
  {
   "cell_type": "code",
   "execution_count": 27,
   "metadata": {},
   "outputs": [
    {
     "name": "stdout",
     "output_type": "stream",
     "text": [
      "1  2  3  \n",
      "4  5  6  \n",
      "5  6  7  \n",
      "*  0  #  \n"
     ]
    }
   ],
   "source": [
    "for row in keypad:\n",
    "    for number in row:\n",
    "        print(number, end=\"  \")\n",
    "    print()"
   ]
  },
  {
   "cell_type": "markdown",
   "metadata": {},
   "source": [
    "### Python Quiz Game:"
   ]
  },
  {
   "cell_type": "code",
   "execution_count": 8,
   "metadata": {},
   "outputs": [
    {
     "name": "stdout",
     "output_type": "stream",
     "text": [
      "Welcome to PYTHON QUIZ GAME!!!!\n",
      "---------------------------------\n",
      "Question NO. 1\n",
      "What is the first english alphabet?\n",
      "['b', 'a', 'b', 'c']\n",
      "---------------------------------\n",
      "Question NO. 2\n",
      "What is the capital of india?\n",
      "['kathmandu', 'thimpu', 'columbia', 'newdelhi']\n",
      "\n",
      "-----------RESULT SUMMARY---------------\n",
      "Congratulations Kshitiz!!! You have scored 1 out of 2\n"
     ]
    }
   ],
   "source": [
    "# A game where a user can ask a question and also gives 4 options, and gives correct answer too. A player has to play. \n",
    "# And a program keeps the track of the players score\n",
    "\n",
    "print(\"Welcome to PYTHON QUIZ GAME!!!!\")\n",
    "\n",
    "username = input(\"Hello player, enter your name: \")\n",
    "\n",
    "no_of_question = int(input(\"Enter number of question you want to play: (5, 7, 10): \"))\n",
    "initial_question_counter = 0\n",
    "\n",
    "question_list = []\n",
    "options_list = [[] for _ in range(no_of_question)]\n",
    "correct_answers = []\n",
    "\n",
    "score = 0\n",
    "\n",
    "while  initial_question_counter < no_of_question:\n",
    "    print(\"---------------------------------\")\n",
    "    print(f\"Question NO. {initial_question_counter+1}\")\n",
    "    question = input(\"Enter the question: \")\n",
    "    question_list.append(question)\n",
    "    options = input(\"Enter 4 options: (sep by space, Eg. cat dog fish hen)\")\n",
    "    options_list[initial_question_counter].append(options.split(\" \"))\n",
    "    option_list_in_1D = options_list[initial_question_counter][-1]\n",
    "    \n",
    "    # Displaying question and options on screen:\n",
    "    print(question_list[initial_question_counter])\n",
    "    print(option_list_in_1D)\n",
    "    \n",
    "    # Asking for the corect answer to the questionaire.\n",
    "    correct_answer = input(\"Enter the correct answers: \")\n",
    "    correct_answers.append(correct_answer)\n",
    "    \n",
    "    \n",
    "    # Taking answer from the user:\n",
    "    user_answer = int(input(\"Enter your options: (0, 1, 2, 3)\"))\n",
    "    \n",
    "    if option_list_in_1D[user_answer] == correct_answers[initial_question_counter]:\n",
    "        score += 1\n",
    "    \n",
    "    initial_question_counter += 1\n",
    "\n",
    "print()\n",
    "print(\"-----------RESULT SUMMARY---------------\")\n",
    "print(f\"Congratulations {username}!!! You have scored {score} out of {no_of_question}\")\n",
    "\n",
    "\n",
    "\n",
    "# There are lot of things that thing quiz game needs to be modified. Still it is good for 2 round of question for now.\n",
    "    "
   ]
  },
  {
   "cell_type": "raw",
   "metadata": {},
   "source": [
    "options_list = [[] for _ in range(2)]\n"
   ]
  },
  {
   "cell_type": "raw",
   "metadata": {},
   "source": [
    "options_list"
   ]
  },
  {
   "cell_type": "raw",
   "metadata": {},
   "source": [
    "options = \"cat dog fish hen\"\n",
    "options2 = \"kathmandu pokhara biratnagar birtamod\"\n",
    "\n",
    "\n",
    "options_list[0].append(options.split(\" \"))\n",
    "options_list[1].append(options2.split(\" \"))\n",
    "\n",
    "print(options_list)"
   ]
  },
  {
   "cell_type": "raw",
   "metadata": {},
   "source": [
    "options_list[0][-1]"
   ]
  },
  {
   "cell_type": "raw",
   "metadata": {},
   "source": [
    "options = \"cat dog fish hen\"\n",
    "\n",
    "options.split(\" \")"
   ]
  },
  {
   "cell_type": "raw",
   "metadata": {},
   "source": [
    "i = 3\n",
    "options_list = [[]]*i\n"
   ]
  },
  {
   "cell_type": "raw",
   "metadata": {},
   "source": [
    "options_list"
   ]
  },
  {
   "cell_type": "raw",
   "metadata": {
    "vscode": {
     "languageId": "raw"
    }
   },
   "source": [
    "options_list[0].append([1,3,5])\n",
    "options_list[1].append([2,4,6])\n",
    "options_list[2].append([3,6,9])"
   ]
  },
  {
   "cell_type": "raw",
   "metadata": {},
   "source": [
    "options_list[-1]"
   ]
  },
  {
   "cell_type": "raw",
   "metadata": {},
   "source": [
    "a = list([[]]*2)"
   ]
  },
  {
   "cell_type": "raw",
   "metadata": {},
   "source": [
    "print(a)"
   ]
  },
  {
   "cell_type": "code",
   "execution_count": null,
   "metadata": {},
   "outputs": [],
   "source": []
  }
 ],
 "metadata": {
  "kernelspec": {
   "display_name": "Python 3",
   "language": "python",
   "name": "python3"
  },
  "language_info": {
   "codemirror_mode": {
    "name": "ipython",
    "version": 3
   },
   "file_extension": ".py",
   "mimetype": "text/x-python",
   "name": "python",
   "nbconvert_exporter": "python",
   "pygments_lexer": "ipython3",
   "version": "3.12.2"
  }
 },
 "nbformat": 4,
 "nbformat_minor": 2
}
