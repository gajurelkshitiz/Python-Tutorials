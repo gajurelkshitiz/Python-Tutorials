{
 "cells": [
  {
   "cell_type": "markdown",
   "metadata": {},
   "source": [
    "#### Shopping Cart Program"
   ]
  },
  {
   "cell_type": "code",
   "execution_count": 5,
   "metadata": {},
   "outputs": [
    {
     "name": "stdout",
     "output_type": "stream",
     "text": [
      "------- YOUR CART -------\n",
      "chocolate    chips    pizza    \n",
      "--------------------------\n",
      "Your total payment is: 490.0\n"
     ]
    }
   ],
   "source": [
    "foods = []\n",
    "prices = []\n",
    "total = 0\n",
    "\n",
    "\n",
    "\n",
    "while True:\n",
    "    food = input(\"Enter the food you want to buy: (q to Quit): \")\n",
    "    if food.lower() == \"q\":\n",
    "        break\n",
    "    else:\n",
    "        price = float(input(f\"Enter the price of a {food}: Rs.\"))\n",
    "        foods.append(food)\n",
    "        prices.append(price)\n",
    "    \n",
    "print(\"------- YOUR CART -------\")\n",
    "for food in foods:\n",
    "    print(food, end=\"    \")\n",
    "\n",
    "    \n",
    "for price in prices:\n",
    "    total += price\n",
    "    \n",
    "print(\"\\n--------------------------\")\n",
    "print(f\"Your total payment is: {total}\")"
   ]
  },
  {
   "cell_type": "code",
   "execution_count": null,
   "metadata": {},
   "outputs": [],
   "source": []
  },
  {
   "cell_type": "markdown",
   "metadata": {},
   "source": [
    "### 2D list\n"
   ]
  },
  {
   "cell_type": "code",
   "execution_count": 8,
   "metadata": {},
   "outputs": [],
   "source": [
    "fruits = [\"apple\",\"orange\",\"banana\",\"coconut\"]\n",
    "vegetables = [\"celery\",\"carrots\",\"potatoes\"]\n",
    "meats = [\"chicken\",\"fish\",\"turkey\"]\n",
    "\n",
    "groceries = [fruits,vegetables,meats]"
   ]
  },
  {
   "cell_type": "code",
   "execution_count": 10,
   "metadata": {},
   "outputs": [
    {
     "name": "stdout",
     "output_type": "stream",
     "text": [
      "[['apple', 'orange', 'banana', 'coconut'], ['celery', 'carrots', 'potatoes'], ['chicken', 'fish', 'turkey']]\n"
     ]
    }
   ],
   "source": [
    "print(groceries)"
   ]
  },
  {
   "cell_type": "code",
   "execution_count": 12,
   "metadata": {},
   "outputs": [
    {
     "data": {
      "text/plain": [
       "'orange'"
      ]
     },
     "execution_count": 12,
     "metadata": {},
     "output_type": "execute_result"
    }
   ],
   "source": [
    "groceries[0][1]"
   ]
  },
  {
   "cell_type": "code",
   "execution_count": 13,
   "metadata": {},
   "outputs": [
    {
     "data": {
      "text/plain": [
       "[['apple', 'orange', 'banana', 'coconut'], ['celery', 'carrots', 'potatoes']]"
      ]
     },
     "execution_count": 13,
     "metadata": {},
     "output_type": "execute_result"
    }
   ],
   "source": [
    "groceries[:2]"
   ]
  },
  {
   "cell_type": "code",
   "execution_count": 15,
   "metadata": {},
   "outputs": [
    {
     "name": "stdout",
     "output_type": "stream",
     "text": [
      "apple orange banana coconut \n",
      "celery carrots potatoes \n",
      "chicken fish turkey \n"
     ]
    }
   ],
   "source": [
    "for collection in groceries:\n",
    "    for food in collection:\n",
    "        print(food, end=\" \")\n",
    "    print()"
   ]
  },
  {
   "cell_type": "code",
   "execution_count": 17,
   "metadata": {},
   "outputs": [
    {
     "name": "stdout",
     "output_type": "stream",
     "text": [
      "[('apple', 'orange', 'banana', 'coconut'), ('celery', 'carrots', 'potatoes'), ('chicken', 'fish', 'turkey')]\n"
     ]
    }
   ],
   "source": [
    "groceries = [(\"apple\",\"orange\",\"banana\",\"coconut\"),\n",
    "             (\"celery\",\"carrots\",\"potatoes\"),\n",
    "             (\"chicken\",\"fish\",\"turkey\")]\n",
    "\n",
    "print(groceries)"
   ]
  },
  {
   "cell_type": "code",
   "execution_count": 20,
   "metadata": {},
   "outputs": [
    {
     "name": "stdout",
     "output_type": "stream",
     "text": [
      "('chicken', 'fish', 'turkey')\n",
      "('celery', 'carrots', 'potatoes')\n",
      "('apple', 'orange', 'banana', 'coconut')\n"
     ]
    }
   ],
   "source": [
    "for row in groceries[::-1]:\n",
    "    print(row)"
   ]
  },
  {
   "cell_type": "code",
   "execution_count": 21,
   "metadata": {},
   "outputs": [],
   "source": [
    "groceries = ((\"apple\",\"orange\",\"banana\",\"coconut\"),\n",
    "             (\"celery\",\"carrots\",\"potatoes\"),\n",
    "             (\"chicken\",\"fish\",\"turkey\"))"
   ]
  },
  {
   "cell_type": "code",
   "execution_count": 22,
   "metadata": {},
   "outputs": [],
   "source": [
    "groceries = ({\"apple\",\"orange\",\"banana\",\"coconut\"},\n",
    "             {\"celery\",\"carrots\",\"potatoes\"},\n",
    "             {\"chicken\",\"fish\",\"turkey\"})"
   ]
  },
  {
   "cell_type": "markdown",
   "metadata": {},
   "source": [
    "#### Write a program to create a 2D Keypad similar to phone."
   ]
  },
  {
   "cell_type": "code",
   "execution_count": 23,
   "metadata": {},
   "outputs": [],
   "source": [
    "row1 = (\"1\",\"2\",\"3\")\n",
    "row2 = (\"4\",\"5\",\"6\")\n",
    "row3 = (\"5\",\"6\",\"7\")\n",
    "row4 = (\"*\",\"0\",\"#\")\n",
    "\n",
    "keypad = (row1,row2,row3,row4)"
   ]
  },
  {
   "cell_type": "code",
   "execution_count": 24,
   "metadata": {},
   "outputs": [
    {
     "data": {
      "text/plain": [
       "(('1', '2', '3'), ('4', '5', '6'), ('5', '6', '7'), ('*', '0', '#'))"
      ]
     },
     "execution_count": 24,
     "metadata": {},
     "output_type": "execute_result"
    }
   ],
   "source": [
    "keypad"
   ]
  },
  {
   "cell_type": "code",
   "execution_count": 27,
   "metadata": {},
   "outputs": [
    {
     "name": "stdout",
     "output_type": "stream",
     "text": [
      "1  2  3  \n",
      "4  5  6  \n",
      "5  6  7  \n",
      "*  0  #  \n"
     ]
    }
   ],
   "source": [
    "for row in keypad:\n",
    "    for number in row:\n",
    "        print(number, end=\"  \")\n",
    "    print()"
   ]
  },
  {
   "cell_type": "markdown",
   "metadata": {},
   "source": [
    "### Python Quiz Game:"
   ]
  },
  {
   "cell_type": "code",
   "execution_count": 8,
   "metadata": {},
   "outputs": [
    {
     "name": "stdout",
     "output_type": "stream",
     "text": [
      "Welcome to PYTHON QUIZ GAME!!!!\n",
      "---------------------------------\n",
      "Question NO. 1\n",
      "What is the first english alphabet?\n",
      "['b', 'a', 'b', 'c']\n",
      "---------------------------------\n",
      "Question NO. 2\n",
      "What is the capital of india?\n",
      "['kathmandu', 'thimpu', 'columbia', 'newdelhi']\n",
      "\n",
      "-----------RESULT SUMMARY---------------\n",
      "Congratulations Kshitiz!!! You have scored 1 out of 2\n"
     ]
    }
   ],
   "source": [
    "# A game where a user can ask a question and also gives 4 options, and gives correct answer too. A player has to play. \n",
    "# And a program keeps the track of the players score\n",
    "\n",
    "print(\"Welcome to PYTHON QUIZ GAME!!!!\")\n",
    "\n",
    "username = input(\"Hello player, enter your name: \")\n",
    "\n",
    "no_of_question = int(input(\"Enter number of question you want to play: (5, 7, 10): \"))\n",
    "initial_question_counter = 0\n",
    "\n",
    "question_list = []\n",
    "options_list = [[] for _ in range(no_of_question)]\n",
    "correct_answers = []\n",
    "\n",
    "score = 0\n",
    "\n",
    "while  initial_question_counter < no_of_question:\n",
    "    print(\"---------------------------------\")\n",
    "    print(f\"Question NO. {initial_question_counter+1}\")\n",
    "    question = input(\"Enter the question: \")\n",
    "    question_list.append(question)\n",
    "    options = input(\"Enter 4 options: (sep by space, Eg. cat dog fish hen)\")\n",
    "    options_list[initial_question_counter].append(options.split(\" \"))\n",
    "    option_list_in_1D = options_list[initial_question_counter][-1]\n",
    "    \n",
    "    # Displaying question and options on screen:\n",
    "    print(question_list[initial_question_counter])\n",
    "    print(option_list_in_1D)\n",
    "    \n",
    "    # Asking for the corect answer to the questionaire.\n",
    "    correct_answer = input(\"Enter the correct answers: \")\n",
    "    correct_answers.append(correct_answer)\n",
    "    \n",
    "    \n",
    "    # Taking answer from the user:\n",
    "    user_answer = int(input(\"Enter your options: (0, 1, 2, 3)\"))\n",
    "    \n",
    "    if option_list_in_1D[user_answer] == correct_answers[initial_question_counter]:\n",
    "        score += 1\n",
    "    \n",
    "    initial_question_counter += 1\n",
    "\n",
    "print()\n",
    "print(\"-----------RESULT SUMMARY---------------\")\n",
    "print(f\"Congratulations {username}!!! You have scored {score} out of {no_of_question}\")\n",
    "\n",
    "\n",
    "\n",
    "# There are lot of things that thing quiz game needs to be modified. Still it is good for 2 round of question for now.\n",
    "    "
   ]
  },
  {
   "cell_type": "raw",
   "metadata": {},
   "source": [
    "options_list = [[] for _ in range(2)]\n"
   ]
  },
  {
   "cell_type": "raw",
   "metadata": {},
   "source": [
    "options_list"
   ]
  },
  {
   "cell_type": "raw",
   "metadata": {},
   "source": [
    "options = \"cat dog fish hen\"\n",
    "options2 = \"kathmandu pokhara biratnagar birtamod\"\n",
    "\n",
    "\n",
    "options_list[0].append(options.split(\" \"))\n",
    "options_list[1].append(options2.split(\" \"))\n",
    "\n",
    "print(options_list)"
   ]
  },
  {
   "cell_type": "raw",
   "metadata": {},
   "source": [
    "options_list[0][-1]"
   ]
  },
  {
   "cell_type": "raw",
   "metadata": {},
   "source": [
    "options = \"cat dog fish hen\"\n",
    "\n",
    "options.split(\" \")"
   ]
  },
  {
   "cell_type": "raw",
   "metadata": {},
   "source": [
    "i = 3\n",
    "options_list = [[]]*i\n"
   ]
  },
  {
   "cell_type": "raw",
   "metadata": {},
   "source": [
    "options_list"
   ]
  },
  {
   "cell_type": "raw",
   "metadata": {
    "vscode": {
     "languageId": "raw"
    }
   },
   "source": [
    "options_list[0].append([1,3,5])\n",
    "options_list[1].append([2,4,6])\n",
    "options_list[2].append([3,6,9])"
   ]
  },
  {
   "cell_type": "raw",
   "metadata": {},
   "source": [
    "options_list[-1]"
   ]
  },
  {
   "cell_type": "raw",
   "metadata": {},
   "source": [
    "a = list([[]]*2)"
   ]
  },
  {
   "cell_type": "raw",
   "metadata": {},
   "source": [
    "print(a)"
   ]
  },
  {
   "cell_type": "markdown",
   "metadata": {},
   "source": [
    "### Dictionary:\n",
    "\n",
    "    a collection of {key:value} pairs\n",
    "    ordered and changeable. No duplicates"
   ]
  },
  {
   "cell_type": "code",
   "execution_count": 31,
   "metadata": {},
   "outputs": [],
   "source": [
    "capitals = {\"USA\":\"Washington D.C\",\n",
    "            \"India\" : \"New Delhi\",\n",
    "            \"China\" : \"Beijing\",\n",
    "            \"Russia\" : \"Moscow\"}\n"
   ]
  },
  {
   "cell_type": "code",
   "execution_count": 32,
   "metadata": {},
   "outputs": [
    {
     "data": {
      "text/plain": [
       "'Washington D.C'"
      ]
     },
     "execution_count": 32,
     "metadata": {},
     "output_type": "execute_result"
    }
   ],
   "source": [
    "capitals.get(\"USA\")"
   ]
  },
  {
   "cell_type": "code",
   "execution_count": 33,
   "metadata": {},
   "outputs": [
    {
     "data": {
      "text/plain": [
       "'Washington D.C'"
      ]
     },
     "execution_count": 33,
     "metadata": {},
     "output_type": "execute_result"
    }
   ],
   "source": [
    "capitals[\"USA\"]"
   ]
  },
  {
   "cell_type": "code",
   "execution_count": 34,
   "metadata": {},
   "outputs": [
    {
     "ename": "KeyError",
     "evalue": "0",
     "output_type": "error",
     "traceback": [
      "\u001b[1;31m---------------------------------------------------------------------------\u001b[0m",
      "\u001b[1;31mKeyError\u001b[0m                                  Traceback (most recent call last)",
      "Cell \u001b[1;32mIn[34], line 1\u001b[0m\n\u001b[1;32m----> 1\u001b[0m \u001b[43mcapitals\u001b[49m\u001b[43m[\u001b[49m\u001b[38;5;241;43m0\u001b[39;49m\u001b[43m]\u001b[49m\n",
      "\u001b[1;31mKeyError\u001b[0m: 0"
     ]
    }
   ],
   "source": [
    "capitals[0]"
   ]
  },
  {
   "cell_type": "code",
   "execution_count": 35,
   "metadata": {},
   "outputs": [
    {
     "name": "stdout",
     "output_type": "stream",
     "text": [
      "None\n"
     ]
    }
   ],
   "source": [
    "print(capitals.get(\"Japan\"))"
   ]
  },
  {
   "cell_type": "code",
   "execution_count": 36,
   "metadata": {},
   "outputs": [
    {
     "ename": "KeyError",
     "evalue": "'Japan'",
     "output_type": "error",
     "traceback": [
      "\u001b[1;31m---------------------------------------------------------------------------\u001b[0m",
      "\u001b[1;31mKeyError\u001b[0m                                  Traceback (most recent call last)",
      "Cell \u001b[1;32mIn[36], line 1\u001b[0m\n\u001b[1;32m----> 1\u001b[0m \u001b[38;5;28mprint\u001b[39m(\u001b[43mcapitals\u001b[49m\u001b[43m[\u001b[49m\u001b[38;5;124;43m\"\u001b[39;49m\u001b[38;5;124;43mJapan\u001b[39;49m\u001b[38;5;124;43m\"\u001b[39;49m\u001b[43m]\u001b[49m)\n",
      "\u001b[1;31mKeyError\u001b[0m: 'Japan'"
     ]
    }
   ],
   "source": [
    "print(capitals[\"Japan\"])"
   ]
  },
  {
   "cell_type": "code",
   "execution_count": 37,
   "metadata": {},
   "outputs": [],
   "source": [
    "capitals.update({\"Germany\" : \"Berlin\"})"
   ]
  },
  {
   "cell_type": "code",
   "execution_count": 38,
   "metadata": {},
   "outputs": [
    {
     "name": "stdout",
     "output_type": "stream",
     "text": [
      "{'USA': 'Washington D.C', 'India': 'New Delhi', 'China': 'Beijing', 'Russia': 'Moscow', 'Germany': 'Berlin'}\n"
     ]
    }
   ],
   "source": [
    "print(capitals)"
   ]
  },
  {
   "cell_type": "code",
   "execution_count": 39,
   "metadata": {},
   "outputs": [],
   "source": [
    "capitals.update({\"USA\":\"D.C.\"})"
   ]
  },
  {
   "cell_type": "code",
   "execution_count": 40,
   "metadata": {},
   "outputs": [
    {
     "data": {
      "text/plain": [
       "'Beijing'"
      ]
     },
     "execution_count": 40,
     "metadata": {},
     "output_type": "execute_result"
    }
   ],
   "source": [
    "capitals.pop(\"China\")"
   ]
  },
  {
   "cell_type": "code",
   "execution_count": 41,
   "metadata": {},
   "outputs": [
    {
     "data": {
      "text/plain": [
       "{'USA': 'D.C.', 'India': 'New Delhi', 'Russia': 'Moscow', 'Germany': 'Berlin'}"
      ]
     },
     "execution_count": 41,
     "metadata": {},
     "output_type": "execute_result"
    }
   ],
   "source": [
    "capitals"
   ]
  },
  {
   "cell_type": "code",
   "execution_count": 42,
   "metadata": {},
   "outputs": [
    {
     "data": {
      "text/plain": [
       "('Germany', 'Berlin')"
      ]
     },
     "execution_count": 42,
     "metadata": {},
     "output_type": "execute_result"
    }
   ],
   "source": [
    "capitals.popitem()"
   ]
  },
  {
   "cell_type": "code",
   "execution_count": 43,
   "metadata": {},
   "outputs": [
    {
     "data": {
      "text/plain": [
       "{'USA': 'D.C.', 'India': 'New Delhi', 'Russia': 'Moscow'}"
      ]
     },
     "execution_count": 43,
     "metadata": {},
     "output_type": "execute_result"
    }
   ],
   "source": [
    "capitals"
   ]
  },
  {
   "cell_type": "code",
   "execution_count": 28,
   "metadata": {},
   "outputs": [],
   "source": [
    "# capitals.clear()"
   ]
  },
  {
   "cell_type": "code",
   "execution_count": 44,
   "metadata": {},
   "outputs": [
    {
     "data": {
      "text/plain": [
       "dict_keys(['USA', 'India', 'Russia'])"
      ]
     },
     "execution_count": 44,
     "metadata": {},
     "output_type": "execute_result"
    }
   ],
   "source": [
    "capitals.keys()"
   ]
  },
  {
   "cell_type": "code",
   "execution_count": 45,
   "metadata": {},
   "outputs": [
    {
     "name": "stdout",
     "output_type": "stream",
     "text": [
      "USA\n",
      "India\n",
      "Russia\n"
     ]
    }
   ],
   "source": [
    "for key in capitals.keys():\n",
    "    print(key)"
   ]
  },
  {
   "cell_type": "code",
   "execution_count": 46,
   "metadata": {},
   "outputs": [
    {
     "data": {
      "text/plain": [
       "dict_values(['D.C.', 'New Delhi', 'Moscow'])"
      ]
     },
     "execution_count": 46,
     "metadata": {},
     "output_type": "execute_result"
    }
   ],
   "source": [
    "capitals.values()"
   ]
  },
  {
   "cell_type": "code",
   "execution_count": 48,
   "metadata": {},
   "outputs": [
    {
     "data": {
      "text/plain": [
       "dict_items([('USA', 'D.C.'), ('India', 'New Delhi'), ('Russia', 'Moscow')])"
      ]
     },
     "execution_count": 48,
     "metadata": {},
     "output_type": "execute_result"
    }
   ],
   "source": [
    "capitals.items()\n",
    "\n",
    "# it is returning the 2-D list of tuples."
   ]
  },
  {
   "cell_type": "code",
   "execution_count": 54,
   "metadata": {},
   "outputs": [
    {
     "name": "stdout",
     "output_type": "stream",
     "text": [
      "dict_items([('USA', 'D.C.'), ('India', 'New Delhi'), ('Russia', 'Moscow')])\n"
     ]
    }
   ],
   "source": [
    "print(capitals.items())"
   ]
  },
  {
   "cell_type": "code",
   "execution_count": 55,
   "metadata": {},
   "outputs": [
    {
     "name": "stdout",
     "output_type": "stream",
     "text": [
      "USA ---> D.C.\n",
      "India ---> New Delhi\n",
      "Russia ---> Moscow\n"
     ]
    }
   ],
   "source": [
    "for key,value in capitals.items():\n",
    "    print(f\"{key} ---> {value}\")"
   ]
  },
  {
   "cell_type": "markdown",
   "metadata": {},
   "source": [
    "### Concession Stand Program"
   ]
  },
  {
   "cell_type": "code",
   "execution_count": 101,
   "metadata": {},
   "outputs": [
    {
     "name": "stdout",
     "output_type": "stream",
     "text": [
      "    !!!! MOVIE TIME MENU !!!    \n",
      "\n",
      "          pizza : Rs.350.0\n",
      "           soda : Rs.80.0\n",
      " normal popcorn : Rs.150.0\n",
      " cheese popcorn : Rs.250.0\n",
      "         burger : Rs.150.0\n",
      "       lemonade : Rs.100.0\n",
      "   french fries : Rs.200.0\n",
      "          chips : Rs.200.0\n",
      "\n",
      "PREPARING YOUR BILL.\n",
      "\n",
      "You cart contains:  ['cheese popcorn', 'lemonade', 'pizza', 'soda', 'chips', 'french fries']\n",
      "Billing amount = Rs.1180.0\n",
      "Your voucher code is validated!\n",
      "Your Discounted amount is: 1003.0\n"
     ]
    }
   ],
   "source": [
    "menu = {\"pizza\" : \"350\",\n",
    "        \"soda\" : \"80\",\n",
    "        \"normal popcorn\" : \"150\",\n",
    "        \"cheese popcorn\" : \"250\",\n",
    "        \"burger\" : \"150\",\n",
    "        \"lemonade\" : \"100\",\n",
    "        \"french fries\" : \"200\",\n",
    "        \"chips\" : \"200\"}\n",
    "\n",
    "cart = []\n",
    "total_price = 0\n",
    "\n",
    "special_voucher = \"MOVIE15OFF\"\n",
    "\n",
    "# Displaying menu:\n",
    "string = \"!!!! MOVIE TIME MENU !!!\"\n",
    "print(f\"{string:^32}\\n\")\n",
    "for key, value in menu.items():\n",
    "    print(f\"{key:>15} : Rs.{float(value):.1f}\")\n",
    "    \n",
    "while True:\n",
    "    food = input(\"Select the Food: (q to quit)\").lower()\n",
    "    if food == \"q\":\n",
    "        break\n",
    "    else:\n",
    "        cart.append(food)\n",
    "        if food in list(menu.keys()):\n",
    "            total_price += float(menu.get(food))\n",
    "            \n",
    "print(\"\\nPREPARING YOUR BILL.\\n\")\n",
    "print(f\"You cart contains:  {cart}\")\n",
    "print(f\"Billing amount = Rs.{total_price}\")\n",
    "\n",
    "voucher = input(\"Do you have a voucher? (Y/N)\")\n",
    "if voucher == \"Y\":\n",
    "    voucher_number = input(\"Enter your voucher code: (ALL CAPS)\")\n",
    "    if voucher_number == \"MOVIE15OFF\":\n",
    "        print(\"Your voucher code is validated!\")\n",
    "        print(f\"Your Discounted amount is: {0.85 * total_price}\")\n",
    "    else: \n",
    "        print(\"Your voucher code is not validated! Try again in next purchase.\")\n",
    "else:\n",
    "    print(f\"Your paying price is: {total_price}\")\n"
   ]
  },
  {
   "cell_type": "code",
   "execution_count": 76,
   "metadata": {},
   "outputs": [],
   "source": [
    "menu = {\"pizza\" : \"350\",\n",
    "        \"soda\" : \"80\",\n",
    "        \"normal popcorn\" : \"150\",\n",
    "        \"cheese popcorn\" : \"250\",\n",
    "        \"burger\" : \"150\",\n",
    "        \"lemonade\" : \"100\",\n",
    "        \"french fries\" : \"200\",\n",
    "        \"chips\" : \"200\"}\n"
   ]
  },
  {
   "cell_type": "code",
   "execution_count": 80,
   "metadata": {},
   "outputs": [
    {
     "name": "stdout",
     "output_type": "stream",
     "text": [
      "['pizza', 'soda', 'normal popcorn', 'cheese popcorn', 'burger', 'lemonade', 'french fries', 'chips']\n"
     ]
    }
   ],
   "source": [
    "print(list(menu.keys()))"
   ]
  },
  {
   "cell_type": "code",
   "execution_count": 81,
   "metadata": {},
   "outputs": [
    {
     "data": {
      "text/plain": [
       "True"
      ]
     },
     "execution_count": 81,
     "metadata": {},
     "output_type": "execute_result"
    }
   ],
   "source": [
    "'soda' in list(menu.keys())"
   ]
  },
  {
   "cell_type": "code",
   "execution_count": 84,
   "metadata": {},
   "outputs": [
    {
     "data": {
      "text/plain": [
       "'80'"
      ]
     },
     "execution_count": 84,
     "metadata": {},
     "output_type": "execute_result"
    }
   ],
   "source": [
    "menu.get('soda')"
   ]
  },
  {
   "cell_type": "code",
   "execution_count": 100,
   "metadata": {},
   "outputs": [
    {
     "name": "stdout",
     "output_type": "stream",
     "text": [
      "a b c d "
     ]
    }
   ],
   "source": [
    "cart = ['a','b','c','d']\n",
    "\n",
    "for x in cart:\n",
    "    print(x, end=\" \")"
   ]
  },
  {
   "cell_type": "markdown",
   "metadata": {},
   "source": [
    "### Random Number"
   ]
  },
  {
   "cell_type": "code",
   "execution_count": 102,
   "metadata": {},
   "outputs": [],
   "source": [
    "import random"
   ]
  },
  {
   "cell_type": "code",
   "execution_count": null,
   "metadata": {},
   "outputs": [],
   "source": [
    "print(help(random))"
   ]
  },
  {
   "cell_type": "code",
   "execution_count": 114,
   "metadata": {},
   "outputs": [
    {
     "data": {
      "text/plain": [
       "1"
      ]
     },
     "execution_count": 114,
     "metadata": {},
     "output_type": "execute_result"
    }
   ],
   "source": [
    "random.randint(1,6)"
   ]
  },
  {
   "cell_type": "code",
   "execution_count": null,
   "metadata": {},
   "outputs": [],
   "source": []
  },
  {
   "cell_type": "code",
   "execution_count": null,
   "metadata": {},
   "outputs": [],
   "source": []
  }
 ],
 "metadata": {
  "kernelspec": {
   "display_name": "Python 3",
   "language": "python",
   "name": "python3"
  },
  "language_info": {
   "codemirror_mode": {
    "name": "ipython",
    "version": 3
   },
   "file_extension": ".py",
   "mimetype": "text/x-python",
   "name": "python",
   "nbconvert_exporter": "python",
   "pygments_lexer": "ipython3",
   "version": "3.12.2"
  }
 },
 "nbformat": 4,
 "nbformat_minor": 2
}
