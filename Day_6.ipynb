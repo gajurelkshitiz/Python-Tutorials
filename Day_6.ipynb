{
 "cells": [
  {
   "cell_type": "markdown",
   "metadata": {},
   "source": [
    "### args & kwargs\n",
    "    *args = allow you to pass multiple non-key arguments\n",
    "    **kwargs = allows you to pass multiple keyword-arguments\n",
    "\n",
    "                * unpacking operator\n",
    "                1. positional  2. default  3. keyword  4. ARBITRARY\n"
   ]
  },
  {
   "cell_type": "code",
   "execution_count": 3,
   "metadata": {},
   "outputs": [],
   "source": [
    "def add(a,b):\n",
    "    return a+b"
   ]
  },
  {
   "cell_type": "code",
   "execution_count": 4,
   "metadata": {},
   "outputs": [
    {
     "name": "stdout",
     "output_type": "stream",
     "text": [
      "3\n"
     ]
    }
   ],
   "source": [
    "print(add(1,2))"
   ]
  },
  {
   "cell_type": "code",
   "execution_count": 5,
   "metadata": {},
   "outputs": [
    {
     "ename": "TypeError",
     "evalue": "add() takes 2 positional arguments but 3 were given",
     "output_type": "error",
     "traceback": [
      "\u001b[1;31m---------------------------------------------------------------------------\u001b[0m",
      "\u001b[1;31mTypeError\u001b[0m                                 Traceback (most recent call last)",
      "Cell \u001b[1;32mIn[5], line 1\u001b[0m\n\u001b[1;32m----> 1\u001b[0m \u001b[38;5;28mprint\u001b[39m(\u001b[43madd\u001b[49m\u001b[43m(\u001b[49m\u001b[38;5;241;43m1\u001b[39;49m\u001b[43m,\u001b[49m\u001b[38;5;241;43m2\u001b[39;49m\u001b[43m,\u001b[49m\u001b[38;5;241;43m3\u001b[39;49m\u001b[43m)\u001b[49m)\n",
      "\u001b[1;31mTypeError\u001b[0m: add() takes 2 positional arguments but 3 were given"
     ]
    }
   ],
   "source": [
    "print(add(1,2,3))"
   ]
  },
  {
   "cell_type": "code",
   "execution_count": 6,
   "metadata": {},
   "outputs": [
    {
     "name": "stdout",
     "output_type": "stream",
     "text": [
      "10\n"
     ]
    }
   ],
   "source": [
    "def add(*args):\n",
    "    total = 0\n",
    "    for arg in args:\n",
    "        total += arg\n",
    "    return total\n",
    "\n",
    "print(add(1,2,3,4))"
   ]
  },
  {
   "cell_type": "code",
   "execution_count": 7,
   "metadata": {},
   "outputs": [
    {
     "name": "stdout",
     "output_type": "stream",
     "text": [
      "Dr. Spongebob "
     ]
    }
   ],
   "source": [
    "def display_name(*args):\n",
    "    for arg in args:\n",
    "        print(arg, end=\" \")\n",
    "        \n",
    "\n",
    "display_name(\"Dr.\",\"Spongebob\",)"
   ]
  },
  {
   "cell_type": "code",
   "execution_count": 8,
   "metadata": {},
   "outputs": [
    {
     "name": "stdout",
     "output_type": "stream",
     "text": [
      "Dr. Spongebob Harold Squarepants III "
     ]
    }
   ],
   "source": [
    "display_name(\"Dr.\",\"Spongebob\",\"Harold\",\"Squarepants\",\"III\")"
   ]
  },
  {
   "cell_type": "code",
   "execution_count": 12,
   "metadata": {},
   "outputs": [
    {
     "name": "stdout",
     "output_type": "stream",
     "text": [
      "<class 'tuple'>\n"
     ]
    }
   ],
   "source": [
    "def display_type(*args):\n",
    "    print(type(args))\n",
    "    \n",
    "display_type(1,2,3)"
   ]
  },
  {
   "cell_type": "code",
   "execution_count": 10,
   "metadata": {},
   "outputs": [
    {
     "name": "stdout",
     "output_type": "stream",
     "text": [
      "<class 'dict'>\n"
     ]
    }
   ],
   "source": [
    "def print_address(**kwargs):\n",
    "    print(type(kwargs))\n",
    "\n",
    "print_address(street= \"123 Fake St.\", \n",
    "              city=\"Detrioit\", \n",
    "              state=\"MI\", \n",
    "              zip=\"54321\")"
   ]
  },
  {
   "cell_type": "code",
   "execution_count": 14,
   "metadata": {},
   "outputs": [
    {
     "name": "stdout",
     "output_type": "stream",
     "text": [
      "123 Fake St.\n",
      "Detrioit\n",
      "MI\n",
      "54321\n"
     ]
    }
   ],
   "source": [
    "def print_address(**kwargs):\n",
    "    for value in kwargs.values():\n",
    "        print(value)\n",
    "\n",
    "print_address(street= \"123 Fake St.\", \n",
    "              city=\"Detrioit\", \n",
    "              state=\"MI\", \n",
    "              zip=\"54321\")"
   ]
  },
  {
   "cell_type": "code",
   "execution_count": 17,
   "metadata": {},
   "outputs": [
    {
     "name": "stdout",
     "output_type": "stream",
     "text": [
      "street: 123 Fake St.\n",
      "city: Detrioit\n",
      "state: MI\n",
      "zip: 54321\n"
     ]
    }
   ],
   "source": [
    "def print_address(**kwargs):\n",
    "    for key,value in kwargs.items():\n",
    "        print(f\"{key}: {value}\")\n",
    "\n",
    "print_address(street= \"123 Fake St.\", \n",
    "              city=\"Detrioit\", \n",
    "              state=\"MI\", \n",
    "              zip=\"54321\")"
   ]
  },
  {
   "cell_type": "code",
   "execution_count": 19,
   "metadata": {},
   "outputs": [
    {
     "name": "stdout",
     "output_type": "stream",
     "text": [
      "Dr. Spongebob Squarepants III \n",
      "123 Fake St.\n",
      "Detroit MI 54321\n"
     ]
    }
   ],
   "source": [
    "def shipping_label(*args, **kwargs):\n",
    "    for arg in args:\n",
    "        print(arg, end=\" \")\n",
    "    print()\n",
    "    print(f\"{kwargs.get('street')}\")\n",
    "    print(f\"{kwargs.get('city')} {kwargs.get('state')} {kwargs.get('zip')}\")\n",
    "\n",
    "shipping_label(\"Dr.\",\"Spongebob\",\"Squarepants\",\"III\",\n",
    "               street = \"123 Fake St.\",\n",
    "               apt = \"100\",\n",
    "               city = \"Detroit\",\n",
    "               state = \"MI\",\n",
    "               zip = \"54321\")"
   ]
  },
  {
   "cell_type": "code",
   "execution_count": null,
   "metadata": {},
   "outputs": [],
   "source": []
  }
 ],
 "metadata": {
  "kernelspec": {
   "display_name": "Python 3",
   "language": "python",
   "name": "python3"
  },
  "language_info": {
   "codemirror_mode": {
    "name": "ipython",
    "version": 3
   },
   "file_extension": ".py",
   "mimetype": "text/x-python",
   "name": "python",
   "nbconvert_exporter": "python",
   "pygments_lexer": "ipython3",
   "version": "3.12.2"
  }
 },
 "nbformat": 4,
 "nbformat_minor": 2
}
