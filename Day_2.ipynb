{
 "cells": [
  {
   "cell_type": "markdown",
   "metadata": {},
   "source": [
    "### Logical Operators = evaluate multiple conditions(or, and, not)"
   ]
  },
  {
   "cell_type": "code",
   "execution_count": 1,
   "metadata": {},
   "outputs": [
    {
     "name": "stdout",
     "output_type": "stream",
     "text": [
      "The tour is scheduled for today.\n"
     ]
    }
   ],
   "source": [
    "temp = 27\n",
    "rainy_day = False\n",
    "\n",
    "if temp > 30 or temp < 16 or rainy_day:\n",
    "    print(\"The Tour has been canceled due to bad weather.\")\n",
    "else:\n",
    "    print(\"The tour is scheduled for today.\")"
   ]
  },
  {
   "cell_type": "code",
   "execution_count": 2,
   "metadata": {},
   "outputs": [
    {
     "name": "stdout",
     "output_type": "stream",
     "text": [
      "There are still tasks left to do for tour\n"
     ]
    }
   ],
   "source": [
    "no_of_participants = 15\n",
    "destination_selected = True\n",
    "vehicle_managed = True\n",
    "\n",
    "if no_of_participants > 20 and destination_selected and vehicle_managed:\n",
    "    print(\"The tour management is in final stage.\")\n",
    "else:\n",
    "    print(\"There are still tasks left to do for tour.\")"
   ]
  },
  {
   "cell_type": "markdown",
   "metadata": {},
   "source": [
    "### Conditional Expression:\n",
    "    A one-line shortcut for the **if-else** statement. (ternary operator)\n",
    "\n",
    "    Print or assign one of two values based on a condition.\n",
    "\n",
    "    \"X if condition else Y\""
   ]
  },
  {
   "cell_type": "code",
   "execution_count": 1,
   "metadata": {},
   "outputs": [
    {
     "name": "stdout",
     "output_type": "stream",
     "text": [
      "positive\n"
     ]
    }
   ],
   "source": [
    "num = 2\n",
    "\n",
    "print(\"positive\" if num>0 else \"negative\")"
   ]
  },
  {
   "cell_type": "code",
   "execution_count": 2,
   "metadata": {},
   "outputs": [
    {
     "name": "stdout",
     "output_type": "stream",
     "text": [
      "5 is Odd\n"
     ]
    }
   ],
   "source": [
    "# Even or odd\n",
    "\n",
    "num = int(input(\"Enter a number: \"))\n",
    "\n",
    "print(f\"{num} is Even\" if num%2 == 0 else f\"{num} is Odd\")"
   ]
  },
  {
   "cell_type": "code",
   "execution_count": 4,
   "metadata": {},
   "outputs": [
    {
     "name": "stdout",
     "output_type": "stream",
     "text": [
      "3 < 12\n",
      "Max is: 12\n"
     ]
    }
   ],
   "source": [
    "# Find max or min of a number\n",
    "\n",
    "f_num = 3\n",
    "s_num = 12\n",
    "\n",
    "print(f\"{f_num} > {s_num}\" if f_num > s_num else f\"{f_num} < {s_num}\")\n",
    "\n",
    "\n",
    "print(f\"Max is: {f_num}\" if f_num > s_num else f\"Max is: {s_num}\") "
   ]
  },
  {
   "cell_type": "code",
   "execution_count": 8,
   "metadata": {},
   "outputs": [
    {
     "name": "stdout",
     "output_type": "stream",
     "text": [
      "You are child\n"
     ]
    }
   ],
   "source": [
    "# check the age and write where he is a child, adult, mature or old.\n",
    "\n",
    "age = int(input(\"Enter you age: \"))\n",
    "\n",
    "print(\"You are\", \"child\" if age < 18 else \"adult\")"
   ]
  },
  {
   "cell_type": "markdown",
   "metadata": {},
   "source": [
    "### String Methods:"
   ]
  },
  {
   "cell_type": "code",
   "execution_count": 9,
   "metadata": {},
   "outputs": [],
   "source": [
    "full_name = input(\"Enter you full name: \")          ## kshitiz gajurel"
   ]
  },
  {
   "cell_type": "code",
   "execution_count": 10,
   "metadata": {},
   "outputs": [
    {
     "name": "stdout",
     "output_type": "stream",
     "text": [
      "15\n"
     ]
    }
   ],
   "source": [
    "result = len(full_name)\n",
    "print(result)"
   ]
  },
  {
   "cell_type": "code",
   "execution_count": 11,
   "metadata": {},
   "outputs": [
    {
     "data": {
      "text/plain": [
       "3"
      ]
     },
     "execution_count": 11,
     "metadata": {},
     "output_type": "execute_result"
    }
   ],
   "source": [
    "full_name.find(\"i\")"
   ]
  },
  {
   "cell_type": "code",
   "execution_count": 21,
   "metadata": {},
   "outputs": [
    {
     "data": {
      "text/plain": [
       "5"
      ]
     },
     "execution_count": 21,
     "metadata": {},
     "output_type": "execute_result"
    }
   ],
   "source": [
    "full_name.rfind(\"i\")\n"
   ]
  },
  {
   "cell_type": "code",
   "execution_count": 22,
   "metadata": {},
   "outputs": [
    {
     "data": {
      "text/plain": [
       "'Kshitiz gajurel'"
      ]
     },
     "execution_count": 22,
     "metadata": {},
     "output_type": "execute_result"
    }
   ],
   "source": [
    "full_name.capitalize()"
   ]
  },
  {
   "cell_type": "code",
   "execution_count": 23,
   "metadata": {},
   "outputs": [
    {
     "name": "stdout",
     "output_type": "stream",
     "text": [
      "KSHITIZ GAJUREL\n"
     ]
    }
   ],
   "source": [
    "name = full_name.upper()\n",
    "print(name)"
   ]
  },
  {
   "cell_type": "code",
   "execution_count": 40,
   "metadata": {},
   "outputs": [
    {
     "name": "stdout",
     "output_type": "stream",
     "text": [
      "Does a contains digit, False\n",
      "Does b contains alphabet, True\n",
      "Does b contains alphabet, False\n",
      "Does b contains digit, True\n"
     ]
    }
   ],
   "source": [
    "a = \"Hello\"\n",
    "b = \"02315\"\n",
    "\n",
    "\n",
    "print(\"Does a contains digit,\", a.isdigit())          # checks for only digits\n",
    "print(\"Does b contains alphabet,\", a.isalpha())\n",
    "\n",
    "print(\"Does b contains alphabet,\", b.isalpha())          # checks for only alphabets\n",
    "print(\"Does b contains digit,\", b.isdigit())\n"
   ]
  },
  {
   "cell_type": "code",
   "execution_count": 28,
   "metadata": {},
   "outputs": [
    {
     "data": {
      "text/plain": [
       "False"
      ]
     },
     "execution_count": 28,
     "metadata": {},
     "output_type": "execute_result"
    }
   ],
   "source": [
    "a = \"#$123hello\"\n",
    "a.isalnum()"
   ]
  },
  {
   "cell_type": "code",
   "execution_count": 42,
   "metadata": {},
   "outputs": [
    {
     "data": {
      "text/plain": [
       "'Here* is* a* peice* of* advice* for* you.'"
      ]
     },
     "execution_count": 42,
     "metadata": {},
     "output_type": "execute_result"
    }
   ],
   "source": [
    " string = \"Here is a peice of advice for you.\"\n",
    " \n",
    " string.replace(\" \", \"* \")"
   ]
  },
  {
   "cell_type": "markdown",
   "metadata": {},
   "source": [
    "#### Excercise:"
   ]
  },
  {
   "cell_type": "code",
   "execution_count": 89,
   "metadata": {},
   "outputs": [
    {
     "name": "stdout",
     "output_type": "stream",
     "text": [
      "Username Validated!\n"
     ]
    }
   ],
   "source": [
    "# Validate user input exercise\n",
    "#1. Username is no more than 12 characters\n",
    "#2. username must not contain spaces\n",
    "#3. username most not contain digits.\n",
    "\n",
    "\n",
    "user_value = input(\"Enter a valid name: \")\n",
    "\n",
    "\n",
    "if len(user_value) < 12 and not user_value.isdigit() and user_value.find(\" \") == -1:\n",
    "    print(\"Username Validated!\")\n",
    "else:\n",
    "    print(\"Invalid Username!\")"
   ]
  },
  {
   "cell_type": "code",
   "execution_count": 85,
   "metadata": {},
   "outputs": [
    {
     "name": "stdout",
     "output_type": "stream",
     "text": [
      "True\n"
     ]
    }
   ],
   "source": [
    "value = \"Bro@Code\"\n",
    "\n",
    "print(not value.isdigit())\n"
   ]
  },
  {
   "cell_type": "code",
   "execution_count": 86,
   "metadata": {},
   "outputs": [
    {
     "name": "stdout",
     "output_type": "stream",
     "text": [
      "False\n"
     ]
    }
   ],
   "source": [
    "print(value.find(\" \") != -1)"
   ]
  },
  {
   "cell_type": "code",
   "execution_count": null,
   "metadata": {},
   "outputs": [],
   "source": [
    "print(help(str))"
   ]
  },
  {
   "cell_type": "code",
   "execution_count": null,
   "metadata": {},
   "outputs": [],
   "source": []
  }
 ],
 "metadata": {
  "kernelspec": {
   "display_name": "Python 3",
   "language": "python",
   "name": "python3"
  },
  "language_info": {
   "codemirror_mode": {
    "name": "ipython",
    "version": 3
   },
   "file_extension": ".py",
   "mimetype": "text/x-python",
   "name": "python",
   "nbconvert_exporter": "python",
   "pygments_lexer": "ipython3",
   "version": "3.12.2"
  }
 },
 "nbformat": 4,
 "nbformat_minor": 2
}
