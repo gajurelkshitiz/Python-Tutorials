{
 "cells": [
  {
   "cell_type": "code",
   "execution_count": 2,
   "metadata": {},
   "outputs": [],
   "source": [
    "import random"
   ]
  },
  {
   "cell_type": "code",
   "execution_count": 3,
   "metadata": {},
   "outputs": [
    {
     "data": {
      "text/plain": [
       "1"
      ]
     },
     "execution_count": 3,
     "metadata": {},
     "output_type": "execute_result"
    }
   ],
   "source": [
    "random.randint(1,5)"
   ]
  },
  {
   "cell_type": "code",
   "execution_count": 5,
   "metadata": {},
   "outputs": [
    {
     "data": {
      "text/plain": [
       "0.4484663576488359"
      ]
     },
     "execution_count": 5,
     "metadata": {},
     "output_type": "execute_result"
    }
   ],
   "source": [
    "random.random()\n",
    "\n",
    "# Returns a floating point number between 0 and 1."
   ]
  },
  {
   "cell_type": "code",
   "execution_count": 12,
   "metadata": {},
   "outputs": [
    {
     "name": "stdout",
     "output_type": "stream",
     "text": [
      "Rock\n"
     ]
    }
   ],
   "source": [
    "options = (\"Rock\", \"Paper\", \"Scissors\")\n",
    "\n",
    "print(random.choice(options))"
   ]
  },
  {
   "cell_type": "code",
   "execution_count": 19,
   "metadata": {},
   "outputs": [
    {
     "name": "stdout",
     "output_type": "stream",
     "text": [
      "['7', 'K', '2', '1', '5', '4', '3', '8', 'Q', 'J', '6', '9']\n"
     ]
    }
   ],
   "source": [
    "cards = [\"1\",\"2\",\"3\",\"4\",\"5\",\"6\",\"7\",\"8\",\"9\",\"J\",\"Q\",\"K\"]\n",
    "\n",
    "random.shuffle(cards)\n",
    "\n",
    "print(cards)"
   ]
  },
  {
   "cell_type": "markdown",
   "metadata": {},
   "source": [
    "### Number Guessing Game:"
   ]
  },
  {
   "cell_type": "code",
   "execution_count": 6,
   "metadata": {},
   "outputs": [
    {
     "name": "stdout",
     "output_type": "stream",
     "text": [
      "HINT ::: Your number is lower than 50.0\n",
      "HINT ::: Your number is lower than 25.0\n",
      "HINT ::: Your number is lower than 12.5\n",
      "HINT ::: Your number is lower than 6.25\n",
      "Congratulations!!! You have correctly guessed number in 5 attempt.\n"
     ]
    }
   ],
   "source": [
    "import random\n",
    "\n",
    "low = 0\n",
    "high = 100\n",
    "attempt = 1\n",
    "\n",
    "random_number = random.randint(low, high)\n",
    "# random_number = 24\n",
    "\n",
    "while True:\n",
    "    guess_number = int(input(f\"Guess a number: (Between {low} and {high})\"))\n",
    "    \n",
    "    if guess_number == random_number:\n",
    "        print(f\"Congratulations!!! You have correctly guessed number in {attempt} attempt.\")\n",
    "        break\n",
    "    else:\n",
    "        attempt += 1\n",
    "        \n",
    "        \n",
    "        if abs(random_number-high) < abs(random_number-low):\n",
    "            print(f\"HINT ::: Your number is greater than {high/2}.\")\n",
    "            \n",
    "            low = high/2\n",
    "            \n",
    "        else:\n",
    "            print(f\"HINT ::: Your number is lower than {high/2}\")\n",
    "            \n",
    "            high = high/2\n",
    "        \n"
   ]
  },
  {
   "cell_type": "markdown",
   "metadata": {},
   "source": [
    "### Rock, Paper, Scissors Game"
   ]
  },
  {
   "cell_type": "code",
   "execution_count": 22,
   "metadata": {},
   "outputs": [
    {
     "name": "stdout",
     "output_type": "stream",
     "text": [
      "Both picked: Paper\n",
      "Player 1 won!. Player1: Scissors, Player2: Paper\n"
     ]
    }
   ],
   "source": [
    "# This is a rock-paper-scissors game that both players will play automatically. The game will stop when any one of them wins.\n",
    "# The results will be showed in the terminals.\n",
    "\n",
    "import random\n",
    "\n",
    "options = (\"Rock\",\"Paper\",\"Scissors\")\n",
    "\n",
    "while True:\n",
    "    player_1 = random.choice(options)\n",
    "    player_2 = random.choice(options)\n",
    "    \n",
    "    if player_1 == player_2:\n",
    "        print(f\"Both picked: {player_1}\")\n",
    "    else:\n",
    "        if player_1 == \"Rock\" and player_2 == \"Scissors\":\n",
    "            print(f\"Player 1 won!. Player1: {player_1}, Player2: {player_2}\")\n",
    "        elif player_1 == \"Scissors\" and player_2 == \"Paper\":\n",
    "            print(f\"Player 1 won!. Player1: {player_1}, Player2: {player_2}\")\n",
    "        elif player_1 == \"Paper\" and player_2 == \"Rock\":\n",
    "            print(f\"Player 1 won!. Player1: {player_1}, Player2: {player_2}\")\n",
    "        else:\n",
    "            print(f\"Player 2 won!. Player1: {player_1}, Player2: {player_2}\")\n",
    "        break"
   ]
  },
  {
   "cell_type": "markdown",
   "metadata": {},
   "source": [
    "### Dice Roller Program"
   ]
  },
  {
   "cell_type": "code",
   "execution_count": 24,
   "metadata": {},
   "outputs": [
    {
     "name": "stdout",
     "output_type": "stream",
     "text": [
      "● ┌ ─ ┐ │ └ ┘\n"
     ]
    }
   ],
   "source": [
    "print(\"\\u25CF \\u250C \\u2500 \\u2510 \\u2502 \\u2514 \\u2518\")"
   ]
  },
  {
   "cell_type": "code",
   "execution_count": 25,
   "metadata": {},
   "outputs": [],
   "source": [
    "## Let's represent how our dice art would look like:\n",
    "\n",
    "# Eg of one of dice.\n",
    "\"┌─────────┐\"\n",
    "\"│         │\"\n",
    "\"│    ●    │\"\n",
    "\"│         │\"\n",
    "\"└─────────┘\""
   ]
  },
  {
   "cell_type": "code",
   "execution_count": 35,
   "metadata": {},
   "outputs": [],
   "source": [
    "dice_art = {\n",
    "    1: (\"┌─────────┐\",\n",
    "        \"│         │\",\n",
    "        \"│    ●    │\",\n",
    "        \"│         │\",\n",
    "        \"└─────────┘\"),\n",
    "    2: (\"┌─────────┐\",\n",
    "        \"│    ●    │\",\n",
    "        \"│         │\",\n",
    "        \"│    ●    │\",\n",
    "        \"└─────────┘\"),\n",
    "    3: (\"┌─────────┐\",\n",
    "        \"│    ●    │\",\n",
    "        \"│    ●    │\",\n",
    "        \"│    ●    │\",\n",
    "        \"└─────────┘\"),\n",
    "    4: (\"┌─────────┐\",\n",
    "        \"│  ●   ●  │\",\n",
    "        \"│         │\",\n",
    "        \"│  ●   ●  │\",\n",
    "        \"└─────────┘\"),\n",
    "    5: (\"┌─────────┐\",\n",
    "        \"│ ●     ● │\",\n",
    "        \"│    ●    │\",\n",
    "        \"│ ●     ● │\",\n",
    "        \"└─────────┘\"),\n",
    "    6: (\"┌─────────┐\",\n",
    "        \"│  ●   ●  │\",\n",
    "        \"│  ●   ●  │\",\n",
    "        \"│  ●   ●  │\",\n",
    "        \"└─────────┘\")\n",
    "}"
   ]
  },
  {
   "cell_type": "code",
   "execution_count": 39,
   "metadata": {},
   "outputs": [
    {
     "name": "stdout",
     "output_type": "stream",
     "text": [
      "┌─────────┐\n",
      "│ ●     ● │\n",
      "│    ●    │\n",
      "│ ●     ● │\n",
      "└─────────┘\n"
     ]
    }
   ],
   "source": [
    "dice = 5\n",
    "\n",
    "for key,value in dice_art.items():\n",
    "    if key == dice:\n",
    "        for item in value:\n",
    "            print(item)"
   ]
  },
  {
   "cell_type": "code",
   "execution_count": 49,
   "metadata": {},
   "outputs": [
    {
     "name": "stdout",
     "output_type": "stream",
     "text": [
      "┌─────────┐\n",
      "│    ●    │\n",
      "│         │\n",
      "│    ●    │\n",
      "└─────────┘\n"
     ]
    }
   ],
   "source": [
    "## Dice Rolling Program\n",
    "\n",
    "import random\n",
    "\n",
    "dice = random.randint(1,6)\n",
    "\n",
    "for key,value in dice_art.items():\n",
    "    if key == dice:\n",
    "        for item in value:\n",
    "            print(item)"
   ]
  },
  {
   "cell_type": "code",
   "execution_count": 56,
   "metadata": {},
   "outputs": [
    {
     "name": "stdout",
     "output_type": "stream",
     "text": [
      "┌─────────┐\n",
      "│  ●   ●  │\n",
      "│  ●   ●  │\n",
      "│  ●   ●  │\n",
      "└─────────┘\n",
      "┌─────────┐\n",
      "│         │\n",
      "│    ●    │\n",
      "│         │\n",
      "└─────────┘\n",
      "┌─────────┐\n",
      "│    ●    │\n",
      "│    ●    │\n",
      "│    ●    │\n",
      "└─────────┘\n"
     ]
    }
   ],
   "source": [
    "import random\n",
    "\n",
    "dice = []\n",
    "\n",
    "total = 0\n",
    "num_of_dice = int(input(\"How many dice? \"))\n",
    "\n",
    "for die in range(num_of_dice):\n",
    "    dice.append(random.randint(1,6))\n",
    "    \n",
    "for die in dice:\n",
    "    for key,value in dice_art.items():\n",
    "        if key == die:\n",
    "            for item in value:\n",
    "                print(item)\n",
    "            \n",
    "    "
   ]
  },
  {
   "cell_type": "code",
   "execution_count": 64,
   "metadata": {},
   "outputs": [
    {
     "name": "stdout",
     "output_type": "stream",
     "text": [
      "┌─────────┐  ┌─────────┐  ┌─────────┐  ┌─────────┐  ┌─────────┐  \n",
      "│ ●     ● │  │    ●    │  │    ●    │  │ ●     ● │  │ ●     ● │  \n",
      "│    ●    │  │         │  │    ●    │  │    ●    │  │    ●    │  \n",
      "│ ●     ● │  │    ●    │  │    ●    │  │ ●     ● │  │ ●     ● │  \n",
      "└─────────┘  └─────────┘  └─────────┘  └─────────┘  └─────────┘  \n"
     ]
    }
   ],
   "source": [
    "import random\n",
    "\n",
    "dice = []\n",
    "\n",
    "total = 0\n",
    "num_of_dice = int(input(\"How many dice? \"))\n",
    "\n",
    "for die in range(num_of_dice):\n",
    "    dice.append(random.randint(1,6))\n",
    "    \n",
    "\n",
    "for line in range(5):\n",
    "    for i in range(num_of_dice):\n",
    "        print(dice_art.get(dice[i])[line], end=\"  \")\n",
    "    print()"
   ]
  },
  {
   "cell_type": "markdown",
   "metadata": {},
   "source": [
    "### function\n",
    "\n",
    "    A block of reusable code\n",
    "    place () after the function name to invoke it"
   ]
  },
  {
   "cell_type": "code",
   "execution_count": 66,
   "metadata": {},
   "outputs": [
    {
     "name": "stdout",
     "output_type": "stream",
     "text": [
      "Hello Kshitiz_Gajurel\n",
      "Your bill of amount Rs3250.00 is due since 06/02\n",
      "This is the remainder for you to pay on time.\n"
     ]
    }
   ],
   "source": [
    "def display_invoice(username, amount, due_date):\n",
    "    print(f\"Hello {username}\")\n",
    "    print(f\"Your bill of amount Rs{amount:.2f} is due since {due_date}\")\n",
    "    print(\"This is the remainder for you to pay on time.\")\n",
    "    \n",
    "display_invoice(\"Kshitiz_Gajurel\", 3250, \"06/02\")"
   ]
  },
  {
   "cell_type": "markdown",
   "metadata": {},
   "source": [
    "    return = statement used to end a function\n",
    "             and send a result back to the caller"
   ]
  },
  {
   "cell_type": "code",
   "execution_count": 81,
   "metadata": {},
   "outputs": [
    {
     "name": "stdout",
     "output_type": "stream",
     "text": [
      "5\n",
      "-1\n",
      "6\n",
      "0.67\n"
     ]
    }
   ],
   "source": [
    "def add(x, y):\n",
    "    z = x + y\n",
    "    return z\n",
    "\n",
    "def sub(x, y):\n",
    "    z = x - y\n",
    "    return z\n",
    "\n",
    "def mul(x, y):\n",
    "    z = x * y\n",
    "    return z\n",
    "\n",
    "def div(x, y):\n",
    "    z = x / y\n",
    "    return z\n",
    "\n",
    "print(add(2,3))\n",
    "print(sub(2,3))\n",
    "print(mul(2,3))\n",
    "print(f\"{div(2,3):.2f}\")\n",
    "\n"
   ]
  },
  {
   "cell_type": "code",
   "execution_count": 83,
   "metadata": {},
   "outputs": [
    {
     "name": "stdout",
     "output_type": "stream",
     "text": [
      "Kshitiz Gajurel\n"
     ]
    }
   ],
   "source": [
    "def create_name(first, last):\n",
    "    first = first.capitalize()\n",
    "    last = last.capitalize()\n",
    "    \n",
    "    return first + \" \" + last\n",
    "\n",
    "fullname = create_name(\"Kshitiz\",\"Gajurel\")\n",
    "print(fullname)"
   ]
  },
  {
   "cell_type": "markdown",
   "metadata": {},
   "source": [
    "### Default Arguments:\n",
    "        A default value for certain parameters\n",
    "        default is used when that argument is omitted\n",
    "        make your functions more flexible, reduces # of arguments\n",
    "        1. positional,  2. DEFAULT,  3. keyword,  4. arbitrary"
   ]
  },
  {
   "cell_type": "code",
   "execution_count": 86,
   "metadata": {},
   "outputs": [
    {
     "name": "stdout",
     "output_type": "stream",
     "text": [
      "1525.50\n"
     ]
    }
   ],
   "source": [
    "def net_price(list_price, discount = 10.0, tax = 13.0):\n",
    "    return list_price * (1 - discount/100) * (1 + tax/100)\n",
    "\n",
    "netprice = net_price(list_price = 1500)\n",
    "\n",
    "print(f\"{netprice:.2f}\")\n"
   ]
  },
  {
   "cell_type": "code",
   "execution_count": 87,
   "metadata": {},
   "outputs": [
    {
     "name": "stdout",
     "output_type": "stream",
     "text": [
      "1440.75\n"
     ]
    }
   ],
   "source": [
    "netprice = net_price(list_price = 1500, discount=15)\n",
    "\n",
    "print(f\"{netprice:.2f}\")"
   ]
  },
  {
   "cell_type": "code",
   "execution_count": 88,
   "metadata": {},
   "outputs": [
    {
     "name": "stdout",
     "output_type": "stream",
     "text": [
      "1525.50\n"
     ]
    }
   ],
   "source": [
    "netprice = net_price(1500)\n",
    "\n",
    "print(f\"{netprice:.2f}\")"
   ]
  },
  {
   "cell_type": "code",
   "execution_count": 89,
   "metadata": {},
   "outputs": [
    {
     "name": "stdout",
     "output_type": "stream",
     "text": [
      "1440.75\n"
     ]
    }
   ],
   "source": [
    "netprice = net_price(1500,15)\n",
    "\n",
    "print(f\"{netprice:.2f}\")"
   ]
  },
  {
   "cell_type": "markdown",
   "metadata": {},
   "source": [
    "### Count Up Timer Program"
   ]
  },
  {
   "cell_type": "code",
   "execution_count": 95,
   "metadata": {},
   "outputs": [
    {
     "name": "stdout",
     "output_type": "stream",
     "text": [
      "00 : 00 : 09\n"
     ]
    }
   ],
   "source": [
    "import time\n",
    "from IPython.display import clear_output\n",
    "\n",
    "def count(start, end):\n",
    "    hr = 0\n",
    "    min = 0\n",
    "    sec = 0\n",
    "    while start < end:\n",
    "        clear_output()\n",
    "        print(f\"{hr:02} : {min:02} : {sec:02}\")\n",
    "        time.sleep(1)\n",
    "        sec += 1\n",
    "        min = int(sec/60) % 60\n",
    "        hr = int(sec/3600)\n",
    "        start += 1\n",
    "        \n",
    "start = int(input(\"Enter starting time in second: \"))\n",
    "end = int(input(\"Enter ending time in second: \"))\n",
    "\n",
    "count(start, end)"
   ]
  },
  {
   "cell_type": "markdown",
   "metadata": {},
   "source": [
    "### Keyword Argument:\n",
    "\n",
    "    an argument preceded by an identifier\n",
    "    help with readability\n",
    "    order of arguments doesn't matter\n",
    "    "
   ]
  },
  {
   "cell_type": "code",
   "execution_count": 96,
   "metadata": {},
   "outputs": [
    {
     "name": "stdout",
     "output_type": "stream",
     "text": [
      "Hello Mr.Spongebob Squarepants\n"
     ]
    }
   ],
   "source": [
    "def hello(greeting, title, first, last):\n",
    "    print(f\"{greeting} {title}{first} {last}\")\n",
    "    \n",
    "hello(\"Hello\", \"Mr.\",\"Spongebob\",\"Squarepants\")"
   ]
  },
  {
   "cell_type": "code",
   "execution_count": 98,
   "metadata": {},
   "outputs": [
    {
     "name": "stdout",
     "output_type": "stream",
     "text": [
      "Good Afternoon! Mrs.Leo Marie\n"
     ]
    }
   ],
   "source": [
    "hello(title=\"Mrs.\", first=\"Leo\", last=\"Marie\", greeting=\"Good Afternoon!\")"
   ]
  },
  {
   "cell_type": "code",
   "execution_count": 99,
   "metadata": {},
   "outputs": [
    {
     "name": "stdout",
     "output_type": "stream",
     "text": [
      "Hello Mr.James John\n"
     ]
    }
   ],
   "source": [
    "hello(\"Hello\",\"Mr.\",last=\"John\",first=\"James\")"
   ]
  },
  {
   "cell_type": "code",
   "execution_count": 101,
   "metadata": {},
   "outputs": [
    {
     "name": "stdout",
     "output_type": "stream",
     "text": [
      "1 2 3 4 5\n"
     ]
    }
   ],
   "source": [
    "print(\"1\",\"2\",\"3\",\"4\",\"5\")"
   ]
  },
  {
   "cell_type": "code",
   "execution_count": 102,
   "metadata": {},
   "outputs": [
    {
     "name": "stdout",
     "output_type": "stream",
     "text": [
      "1-2-3-4-5\n"
     ]
    }
   ],
   "source": [
    "print(\"1\",\"2\",\"3\",\"4\",\"5\", sep=\"-\")"
   ]
  },
  {
   "cell_type": "markdown",
   "metadata": {},
   "source": [
    "### Create Phone Number:"
   ]
  },
  {
   "cell_type": "code",
   "execution_count": 103,
   "metadata": {},
   "outputs": [
    {
     "name": "stdout",
     "output_type": "stream",
     "text": [
      "1-123-456-7890\n"
     ]
    }
   ],
   "source": [
    "def get_phone(country, area, first, last):\n",
    "    return f\"{country}-{area}-{first}-{last}\"\n",
    "\n",
    "phone_num = get_phone(country= 1, area= 123, first= 456, last= 7890)\n",
    "\n",
    "print(phone_num)"
   ]
  },
  {
   "cell_type": "code",
   "execution_count": null,
   "metadata": {},
   "outputs": [],
   "source": []
  }
 ],
 "metadata": {
  "kernelspec": {
   "display_name": "Python 3",
   "language": "python",
   "name": "python3"
  },
  "language_info": {
   "codemirror_mode": {
    "name": "ipython",
    "version": 3
   },
   "file_extension": ".py",
   "mimetype": "text/x-python",
   "name": "python",
   "nbconvert_exporter": "python",
   "pygments_lexer": "ipython3",
   "version": "3.12.2"
  }
 },
 "nbformat": 4,
 "nbformat_minor": 2
}
