{
 "cells": [
  {
   "cell_type": "code",
   "execution_count": 2,
   "metadata": {},
   "outputs": [],
   "source": [
    "import random"
   ]
  },
  {
   "cell_type": "code",
   "execution_count": 3,
   "metadata": {},
   "outputs": [
    {
     "data": {
      "text/plain": [
       "1"
      ]
     },
     "execution_count": 3,
     "metadata": {},
     "output_type": "execute_result"
    }
   ],
   "source": [
    "random.randint(1,5)"
   ]
  },
  {
   "cell_type": "code",
   "execution_count": 5,
   "metadata": {},
   "outputs": [
    {
     "data": {
      "text/plain": [
       "0.4484663576488359"
      ]
     },
     "execution_count": 5,
     "metadata": {},
     "output_type": "execute_result"
    }
   ],
   "source": [
    "random.random()\n",
    "\n",
    "# Returns a floating point number between 0 and 1."
   ]
  },
  {
   "cell_type": "code",
   "execution_count": 12,
   "metadata": {},
   "outputs": [
    {
     "name": "stdout",
     "output_type": "stream",
     "text": [
      "Rock\n"
     ]
    }
   ],
   "source": [
    "options = (\"Rock\", \"Paper\", \"Scissors\")\n",
    "\n",
    "print(random.choice(options))"
   ]
  },
  {
   "cell_type": "code",
   "execution_count": 19,
   "metadata": {},
   "outputs": [
    {
     "name": "stdout",
     "output_type": "stream",
     "text": [
      "['7', 'K', '2', '1', '5', '4', '3', '8', 'Q', 'J', '6', '9']\n"
     ]
    }
   ],
   "source": [
    "cards = [\"1\",\"2\",\"3\",\"4\",\"5\",\"6\",\"7\",\"8\",\"9\",\"J\",\"Q\",\"K\"]\n",
    "\n",
    "random.shuffle(cards)\n",
    "\n",
    "print(cards)"
   ]
  },
  {
   "cell_type": "markdown",
   "metadata": {},
   "source": [
    "### Number Guessing Game:"
   ]
  },
  {
   "cell_type": "code",
   "execution_count": 6,
   "metadata": {},
   "outputs": [
    {
     "name": "stdout",
     "output_type": "stream",
     "text": [
      "HINT ::: Your number is lower than 50.0\n",
      "HINT ::: Your number is lower than 25.0\n",
      "HINT ::: Your number is lower than 12.5\n",
      "HINT ::: Your number is lower than 6.25\n",
      "Congratulations!!! You have correctly guessed number in 5 attempt.\n"
     ]
    }
   ],
   "source": [
    "import random\n",
    "\n",
    "low = 0\n",
    "high = 100\n",
    "attempt = 1\n",
    "\n",
    "random_number = random.randint(low, high)\n",
    "# random_number = 24\n",
    "\n",
    "while True:\n",
    "    guess_number = int(input(f\"Guess a number: (Between {low} and {high})\"))\n",
    "    \n",
    "    if guess_number == random_number:\n",
    "        print(f\"Congratulations!!! You have correctly guessed number in {attempt} attempt.\")\n",
    "        break\n",
    "    else:\n",
    "        attempt += 1\n",
    "        \n",
    "        \n",
    "        if abs(random_number-high) < abs(random_number-low):\n",
    "            print(f\"HINT ::: Your number is greater than {high/2}.\")\n",
    "            \n",
    "            low = high/2\n",
    "            \n",
    "        else:\n",
    "            print(f\"HINT ::: Your number is lower than {high/2}\")\n",
    "            \n",
    "            high = high/2\n",
    "        \n"
   ]
  },
  {
   "cell_type": "markdown",
   "metadata": {},
   "source": [
    "### Rock, Paper, Scissors Game"
   ]
  },
  {
   "cell_type": "code",
   "execution_count": 22,
   "metadata": {},
   "outputs": [
    {
     "name": "stdout",
     "output_type": "stream",
     "text": [
      "Both picked: Paper\n",
      "Player 1 won!. Player1: Scissors, Player2: Paper\n"
     ]
    }
   ],
   "source": [
    "# This is a rock-paper-scissors game that both players will play automatically. The game will stop when any one of them wins.\n",
    "# The results will be showed in the terminals.\n",
    "\n",
    "import random\n",
    "\n",
    "options = (\"Rock\",\"Paper\",\"Scissors\")\n",
    "\n",
    "while True:\n",
    "    player_1 = random.choice(options)\n",
    "    player_2 = random.choice(options)\n",
    "    \n",
    "    if player_1 == player_2:\n",
    "        print(f\"Both picked: {player_1}\")\n",
    "    else:\n",
    "        if player_1 == \"Rock\" and player_2 == \"Scissors\":\n",
    "            print(f\"Player 1 won!. Player1: {player_1}, Player2: {player_2}\")\n",
    "        elif player_1 == \"Scissors\" and player_2 == \"Paper\":\n",
    "            print(f\"Player 1 won!. Player1: {player_1}, Player2: {player_2}\")\n",
    "        elif player_1 == \"Paper\" and player_2 == \"Rock\":\n",
    "            print(f\"Player 1 won!. Player1: {player_1}, Player2: {player_2}\")\n",
    "        else:\n",
    "            print(f\"Player 2 won!. Player1: {player_1}, Player2: {player_2}\")\n",
    "        break"
   ]
  },
  {
   "cell_type": "markdown",
   "metadata": {},
   "source": [
    "### Dice Roller Program"
   ]
  },
  {
   "cell_type": "markdown",
   "metadata": {},
   "source": []
  }
 ],
 "metadata": {
  "kernelspec": {
   "display_name": "Python 3",
   "language": "python",
   "name": "python3"
  },
  "language_info": {
   "codemirror_mode": {
    "name": "ipython",
    "version": 3
   },
   "file_extension": ".py",
   "mimetype": "text/x-python",
   "name": "python",
   "nbconvert_exporter": "python",
   "pygments_lexer": "ipython3",
   "version": "3.12.2"
  }
 },
 "nbformat": 4,
 "nbformat_minor": 2
}
