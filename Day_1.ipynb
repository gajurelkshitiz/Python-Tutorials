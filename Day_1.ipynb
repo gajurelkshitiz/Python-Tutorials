{
 "cells": [
  {
   "cell_type": "markdown",
   "metadata": {},
   "source": [
    "## Variable:\n",
    "\n",
    "A container for a value. Basic Data types include: (integer, Float, String, Boolean)"
   ]
  },
  {
   "cell_type": "code",
   "execution_count": 3,
   "metadata": {},
   "outputs": [
    {
     "name": "stdout",
     "output_type": "stream",
     "text": [
      "Your name is Kshitiz Gajurel\n",
      "You live in Biratnagar-03\n",
      "Contact Details: 98000000\n"
     ]
    }
   ],
   "source": [
    "# String:\n",
    "\n",
    "name = \"Kshitiz Gajurel\"\n",
    "address = \"Biratnagar-03\"\n",
    "phone = \"98000000\"\n",
    "\n",
    "print(f\"Your name is {name}\")\n",
    "print(f\"You live in {address}\")\n",
    "print(f\"Contact Details: {phone}\")"
   ]
  },
  {
   "cell_type": "code",
   "execution_count": 5,
   "metadata": {},
   "outputs": [
    {
     "name": "stdout",
     "output_type": "stream",
     "text": [
      "Your current age is 22\n",
      "No of family members: 3\n"
     ]
    }
   ],
   "source": [
    "# Integers:\n",
    "\n",
    "age = 22\n",
    "family_members = 3\n",
    "\n",
    "print(f\"Your current age is {age}\")\n",
    "print(f\"No of family members: {family_members}\")"
   ]
  },
  {
   "cell_type": "code",
   "execution_count": 7,
   "metadata": {},
   "outputs": [
    {
     "name": "stdout",
     "output_type": "stream",
     "text": [
      "The current price of share is: 200.67\n",
      "Chakka Panja 5 movie is rated: 7.8 out of 10\n"
     ]
    }
   ],
   "source": [
    "# Float:\n",
    "\n",
    "stock_rate = 200.67\n",
    "rating = 7.8\n",
    "\n",
    "print(f\"The current price of share is: {stock_rate}\")\n",
    "print(f\"Chakka Panja 5 movie is rated: {rating} out of 10\")"
   ]
  },
  {
   "cell_type": "code",
   "execution_count": 8,
   "metadata": {},
   "outputs": [
    {
     "name": "stdout",
     "output_type": "stream",
     "text": [
      "You are Fail\n"
     ]
    }
   ],
   "source": [
    "# Boolean\n",
    "\n",
    "is_absent = True\n",
    "\n",
    "if is_absent:\n",
    "    print(\"You are Fail\")\n",
    "else:\n",
    "    print(\"You are Pass.\")"
   ]
  },
  {
   "cell_type": "markdown",
   "metadata": {},
   "source": [
    "## Typecasting:\n",
    "\n",
    "The process of converting a variable of one data type to another.\n",
    "\n",
    "### Various typecasting functions are: int(), float(), str(), bool()\n",
    "\n",
    "These are used for handaling users input."
   ]
  },
  {
   "cell_type": "code",
   "execution_count": 13,
   "metadata": {},
   "outputs": [],
   "source": [
    "name = \"kshitiz gajurel\"\n",
    "age = 22\n",
    "python_score = 2.1\n",
    "is_discipline = False"
   ]
  },
  {
   "cell_type": "code",
   "execution_count": 11,
   "metadata": {},
   "outputs": [
    {
     "name": "stdout",
     "output_type": "stream",
     "text": [
      "<class 'int'>\n",
      "22.0\n"
     ]
    }
   ],
   "source": [
    "print(type(age))\n",
    "\n",
    "age = float(age)\n",
    "\n",
    "print(age)"
   ]
  },
  {
   "cell_type": "code",
   "execution_count": 15,
   "metadata": {},
   "outputs": [
    {
     "name": "stdout",
     "output_type": "stream",
     "text": [
      "<class 'float'>\n",
      "2\n"
     ]
    }
   ],
   "source": [
    "print(type(python_score))\n",
    "\n",
    "python_score = int(python_score)\n",
    "\n",
    "print(python_score)"
   ]
  },
  {
   "cell_type": "code",
   "execution_count": 16,
   "metadata": {},
   "outputs": [
    {
     "name": "stdout",
     "output_type": "stream",
     "text": [
      "True\n"
     ]
    }
   ],
   "source": [
    "python_score = bool(python_score)\n",
    "\n",
    "print(python_score)"
   ]
  },
  {
   "cell_type": "code",
   "execution_count": 21,
   "metadata": {},
   "outputs": [
    {
     "name": "stdout",
     "output_type": "stream",
     "text": [
      "<class 'bool'>\n",
      "True\n"
     ]
    }
   ],
   "source": [
    "print(type(name))\n",
    "\n",
    "# name = int(name)              --> ValueError: invalid literal for int() with base 10: 'kshitiz gajurel'\n",
    "# name = float(name)              --> ValueError: could not convert string to float: 'kshitiz gajurel'\n",
    "\n",
    "name = bool(name)\n",
    "\n",
    "print(name)"
   ]
  },
  {
   "cell_type": "code",
   "execution_count": 22,
   "metadata": {},
   "outputs": [
    {
     "name": "stdout",
     "output_type": "stream",
     "text": [
      "True\n"
     ]
    }
   ],
   "source": [
    "float_num = 20.33\n",
    "\n",
    "float_num = bool(float_num)\n",
    "print(float_num)"
   ]
  },
  {
   "cell_type": "markdown",
   "metadata": {},
   "source": [
    "## input():\n",
    "\n",
    "A function that prompts the user data \n",
    "\n",
    "Returns the entered data as a string."
   ]
  },
  {
   "cell_type": "code",
   "execution_count": 4,
   "metadata": {},
   "outputs": [
    {
     "name": "stdout",
     "output_type": "stream",
     "text": [
      "My interest in python is: 8 out of 10\n"
     ]
    }
   ],
   "source": [
    "interest_in_python = input(\"Enter you interest in python out of 10: \")\n",
    "\n",
    "print(f\"My interest in python is: {interest_in_python} out of 10\")"
   ]
  },
  {
   "cell_type": "code",
   "execution_count": 2,
   "metadata": {},
   "outputs": [
    {
     "data": {
      "text/plain": [
       "'aalu'"
      ]
     },
     "execution_count": 2,
     "metadata": {},
     "output_type": "execute_result"
    }
   ],
   "source": [
    "input(\"Enter anything !\")"
   ]
  },
  {
   "cell_type": "code",
   "execution_count": 7,
   "metadata": {},
   "outputs": [
    {
     "name": "stdout",
     "output_type": "stream",
     "text": [
      "My increased interest rate in python programming is: 8.5\n",
      "<class 'int'>\n",
      "<class 'float'>\n"
     ]
    }
   ],
   "source": [
    "# After practising and getting used to python, my interest will gradually increase.\n",
    "\n",
    "# new_interest_in_python = interest_in_python + 1                    --> TypeError: can only concatenate str (not \"int\") to str\n",
    "\n",
    "interest_in_python = int(interest_in_python)\n",
    "new_interest_in_python = interest_in_python + 0.5\n",
    "\n",
    "print(f\"My increased interest rate in python programming is: {new_interest_in_python}\")\n",
    "\n",
    "print(type(interest_in_python))\n",
    "print(type(new_interest_in_python))"
   ]
  },
  {
   "cell_type": "code",
   "execution_count": 9,
   "metadata": {},
   "outputs": [
    {
     "name": "stdout",
     "output_type": "stream",
     "text": [
      "After 3 days of revision, you are requested to practise software development skills for 27 days.\n",
      "While practising to code during your 27 days, try to reference from book of useful concepts.\n"
     ]
    }
   ],
   "source": [
    "revision_days = int(input(\"How many days will you take to revise python watching tutorials ?\"))\n",
    "\n",
    "logic_building_prac_days = revision_days**3\n",
    "\n",
    "print(f\"After {revision_days} days of revision, you are requested to practise software development skills for {logic_building_prac_days} days.\")\n",
    "\n",
    "print(f\"While practising to code during your {logic_building_prac_days} days, try to reference from book of useful concepts.\")"
   ]
  },
  {
   "cell_type": "markdown",
   "metadata": {},
   "source": [
    "## Excercise"
   ]
  },
  {
   "cell_type": "markdown",
   "metadata": {},
   "source": [
    "### Rectangle Area Calc"
   ]
  },
  {
   "cell_type": "code",
   "execution_count": 10,
   "metadata": {},
   "outputs": [
    {
     "name": "stdout",
     "output_type": "stream",
     "text": [
      "You have entered 4.7 of length\n",
      "You have entered 5.6 of breadth\n",
      "Hence, the area of Rectangle is: 26.32\n"
     ]
    }
   ],
   "source": [
    "length = float(input(\"Enter length value:\"))\n",
    "breadth = float(input(\"Enter breath value: \"))\n",
    "\n",
    "Area = length * breadth\n",
    "\n",
    "print(f\"You have entered {length} of length\")\n",
    "print(f\"You have entered {breadth} of breadth\")\n",
    "\n",
    "print(f\"Hence, the area of Rectangle is: {Area}\")"
   ]
  },
  {
   "cell_type": "markdown",
   "metadata": {},
   "source": [
    "### Happy birthday Wishing Program"
   ]
  },
  {
   "cell_type": "code",
   "execution_count": 17,
   "metadata": {},
   "outputs": [
    {
     "name": "stdout",
     "output_type": "stream",
     "text": [
      "HAPPY BIRTHDAY!\n",
      "You are 23 years old now\n"
     ]
    }
   ],
   "source": [
    "birthday = input(\"Enter you birthdate (form = 22 jan): \")\n",
    "today = input(\"Enter today's date (form = 22 jan): \")\n",
    "age = int(input(\"What's you current age?\"))\n",
    "\n",
    "if today == birthday:\n",
    "    print(\"HAPPY BIRTHDAY!\")\n",
    "\n",
    "print(f\"You are {age+1} years old now\")"
   ]
  },
  {
   "cell_type": "markdown",
   "metadata": {},
   "source": [
    "### Shopping Cart Program"
   ]
  },
  {
   "cell_type": "code",
   "execution_count": 11,
   "metadata": {},
   "outputs": [
    {
     "name": "stdout",
     "output_type": "stream",
     "text": [
      "Preparing you Bill...\n",
      "You have purchased 5 pieces of Dairy Milk for price 25.0 each.\n",
      "Total amount to pay: 125.0\n",
      "Thank you for shopping.\n"
     ]
    }
   ],
   "source": [
    "item = input(\"Which item do you want to buy?\")\n",
    "price = float(input(\"What is the price of the item?\"))\n",
    "quantity = int(input(\"Enter the number of items you want to buy\"))\n",
    "\n",
    "print(\"Preparing you Bill...\")\n",
    "print(f\"You have purchased {quantity} pieces of {item} for price {price} each.\")\n",
    "print(f\"Total amount to pay: {price * quantity}\")\n",
    "print(\"Thank you for shopping.\")"
   ]
  },
  {
   "cell_type": "markdown",
   "metadata": {},
   "source": [
    "### Madlibs Game:"
   ]
  },
  {
   "cell_type": "markdown",
   "metadata": {},
   "source": [
    "\n",
    "        Noun : A word that names a person, place, thing, or idea.\n",
    "                Eg: cat, city, friend, happiness\n",
    "        Verb : A word that describes an action or state of being.\n",
    "                Eg: run, eat, think, is\n",
    "        Adjective : A word that describes a noun, giving more information about it.\n",
    "                Eg: happy, blue, big, fast\n",
    "        Adverb : A word that describes a verb, an adjective, or another adverb. Usually telling how, when, where, or to what extend something happens.\n",
    "                Eg: quickly, happily, very, yesterday\n",
    "        Pronoun : A word that replaces noun.\n",
    "                Eg: he, she, it, they\n",
    "        Plural Noun : A noun that represents more that one person, place, thing or idea.\n",
    "                Eg: dogs, cities, friends\n",
    "        Past tense verb : A verb that describes an actions that already happened.\n",
    "                Eg: ran, ate, slept\n",
    "        Exclamation : A word or phrase that shows strong emotions or surprise.\n",
    "                Eg: wow!, oh no!, yikes!\n"
   ]
  },
  {
   "cell_type": "code",
   "execution_count": 12,
   "metadata": {},
   "outputs": [
    {
     "name": "stdout",
     "output_type": "stream",
     "text": [
      "Look the reference above and guess some random words.\n"
     ]
    }
   ],
   "source": [
    "print(\"Look the reference above and guess some random words.\")\n",
    "\n",
    "noun1 = input(\"Enter a noun: \")\n",
    "noun2 = input(\"Enter a noun: \")\n",
    "\n",
    "pronoun1 = input(\"Enter a pronoun: \")\n",
    "pronoun2 = input(\"Enter a pronoun: \")\n",
    "\n",
    "adverb1 = input(\"Enter a adverb: \")\n",
    "\n",
    "adjective1 = input(\"Enter a adjective: \")\n",
    "adjective2 = input(\"Enter a adjective: \")\n",
    "\n",
    "past_tense_verb1 = input(\"Enter a past tense verb: \")\n",
    "\n",
    "exclamtion1 = input(\"Enter a exclamation: \")"
   ]
  },
  {
   "cell_type": "code",
   "execution_count": 16,
   "metadata": {},
   "outputs": [
    {
     "name": "stdout",
     "output_type": "stream",
     "text": [
      "Read you own story.........\n",
      "\n",
      "Once upon a time, there was a Ram. It was caught. Today a Ram came heavy.\n",
      "Then, there appeared a Dharan with smiley charm. She was surpised and reacted oh no!.\n"
     ]
    }
   ],
   "source": [
    "\n",
    "\n",
    "print(\"Read you own story.........\\n\")\n",
    "print(f\"Once upon a time, there was a {noun1}. {pronoun1} was {past_tense_verb1}. {adverb1} a {noun1} came {adjective1}.\")\n",
    "print(f\"Then, there appeared a {noun2} with {adjective2} charm. {pronoun2} was surpised and reacted {exclamtion1}.\")"
   ]
  },
  {
   "cell_type": "markdown",
   "metadata": {},
   "source": [
    "### Arithmetic and Math func"
   ]
  },
  {
   "cell_type": "code",
   "execution_count": 23,
   "metadata": {},
   "outputs": [
    {
     "name": "stdout",
     "output_type": "stream",
     "text": [
      "343.0\n"
     ]
    }
   ],
   "source": [
    "score = 7\n",
    "\n",
    "# score = score + 3\n",
    "score += 3              # Augmented assignment addition operator (+=)\n",
    "\n",
    "score -= 3\n",
    "\n",
    "score *= 3\n",
    "\n",
    "score /= 3\n",
    "\n",
    "score **= 3\n",
    "\n",
    "print(score)"
   ]
  },
  {
   "cell_type": "code",
   "execution_count": 25,
   "metadata": {},
   "outputs": [
    {
     "name": "stdout",
     "output_type": "stream",
     "text": [
      "3.0\n"
     ]
    }
   ],
   "source": [
    "remainder = score % 5       # Modulo operation\n",
    "\n",
    "print(remainder)\n"
   ]
  },
  {
   "cell_type": "markdown",
   "metadata": {},
   "source": [
    "### Fun Game\n",
    "#### Enter a number, and split them into largest equal size groups."
   ]
  },
  {
   "cell_type": "code",
   "execution_count": 35,
   "metadata": {},
   "outputs": [
    {
     "name": "stdout",
     "output_type": "stream",
     "text": [
      "The largest size of group is: 49.0 and it is divided into 7 groups\n"
     ]
    }
   ],
   "source": [
    "num_of_people = int(input(\"Enter total number of people: \"))\n",
    "\n",
    "flag = 0\n",
    "prime_result = \"\"\n",
    "for i in range(2, int(num_of_people/2)):\n",
    "    if num_of_people % i == 0:\n",
    "        flag = 1\n",
    "        divisor = i\n",
    "        break\n",
    "    \n",
    "\n",
    "if flag == 0:\n",
    "    prime_result = \"prime_except_2\"\n",
    "    \n",
    "\n",
    "if prime_result == \"prime_except_2\":\n",
    "    print(\"The group cannot be divided into equal size.\")\n",
    "else:\n",
    "    print(f\"The largest size of group is: {num_of_people/divisor} and it is divided into {divisor} groups\")\n",
    "        "
   ]
  },
  {
   "cell_type": "code",
   "execution_count": 30,
   "metadata": {},
   "outputs": [],
   "source": []
  },
  {
   "cell_type": "code",
   "execution_count": 43,
   "metadata": {},
   "outputs": [
    {
     "name": "stdout",
     "output_type": "stream",
     "text": [
      "4\n",
      "1.0\n",
      "2.67\n",
      "3.77\n",
      "-2.67\n",
      "0.028918022743386045\n",
      "16\n"
     ]
    }
   ],
   "source": [
    "# Math func()\n",
    "\n",
    "x = 3.77\n",
    "y = -2.67\n",
    "z = 1.00\n",
    "\n",
    "\n",
    "print(round(x))\n",
    "print(abs(z))\n",
    "print(abs(y))\n",
    "print(max(x,y,z))\n",
    "print(min(x,y,z))\n",
    "print(pow(x,y))\n",
    "print(pow(2,4))"
   ]
  },
  {
   "cell_type": "code",
   "execution_count": 51,
   "metadata": {},
   "outputs": [
    {
     "name": "stdout",
     "output_type": "stream",
     "text": [
      "3.141592653589793\n",
      "2.718281828459045\n",
      "\n",
      "1.7320508075688772\n",
      "4\n"
     ]
    }
   ],
   "source": [
    "# Some math func from library\n",
    "\n",
    "import math \n",
    "\n",
    "# constant value access\n",
    "print(math.pi)          \n",
    "print(math.e)\n",
    "\n",
    "# using some func\n",
    "print()\n",
    "print(math.sqrt(3))\n",
    "print(math.ceil(3.1))\n"
   ]
  },
  {
   "cell_type": "markdown",
   "metadata": {},
   "source": [
    "#### Calculate circumference of circle:"
   ]
  },
  {
   "cell_type": "code",
   "execution_count": 53,
   "metadata": {},
   "outputs": [
    {
     "name": "stdout",
     "output_type": "stream",
     "text": [
      "The circumference of circle is: 21.991\n"
     ]
    }
   ],
   "source": [
    "import math\n",
    "radius = float(input(\"Enter radius of circle: \"))\n",
    "\n",
    "circumference = 2*math.pi*radius\n",
    "\n",
    "print(f\"The circumference of circle is: {round(circumference,3)}\")"
   ]
  },
  {
   "cell_type": "markdown",
   "metadata": {},
   "source": [
    "### Area of Circle:"
   ]
  },
  {
   "cell_type": "code",
   "execution_count": 57,
   "metadata": {},
   "outputs": [
    {
     "name": "stdout",
     "output_type": "stream",
     "text": [
      "The Area of circle is: 29\n"
     ]
    }
   ],
   "source": [
    "import math\n",
    "radius = float(input(\"Enter radius of circle: \"))\n",
    "\n",
    "# Area = math.pi*radius**2\n",
    "Area = math.pi*math.pow(radius,2)\n",
    "\n",
    "print(f\"The Area of circle is: {math.ceil(Area)}\")"
   ]
  },
  {
   "cell_type": "markdown",
   "metadata": {},
   "source": [
    "### Hypotenuse of Right angle"
   ]
  },
  {
   "cell_type": "code",
   "execution_count": 58,
   "metadata": {},
   "outputs": [
    {
     "name": "stdout",
     "output_type": "stream",
     "text": [
      "The hypotenuse of right angle having sides 3 and 4 is: 5.0\n"
     ]
    }
   ],
   "source": [
    "a = int(input(\"Enter one side: \"))\n",
    "b = int(input(\"Enter other side: \"))\n",
    "\n",
    "hypotenuse = math.sqrt(a**2 + b**2)\n",
    "\n",
    "print(f\"The hypotenuse of right angle having sides {a} and {b} is: {hypotenuse}\")"
   ]
  },
  {
   "cell_type": "markdown",
   "metadata": {},
   "source": [
    "### If Statements"
   ]
  },
  {
   "cell_type": "code",
   "execution_count": 60,
   "metadata": {},
   "outputs": [
    {
     "name": "stdout",
     "output_type": "stream",
     "text": [
      "Proof your age by showing id card for movie tickets.\n"
     ]
    }
   ],
   "source": [
    "age = int(input(\"Enter Age: \"))\n",
    "\n",
    "if age >= 18:\n",
    "    print(\"You are eligible for movie tickets.\")\n",
    "    \n",
    "elif age > 16 and age < 18:\n",
    "    print(\"Proof your age by showing id card for movie tickets.\")\n",
    "else:\n",
    "    print(\"You are ineligible for the movie\")"
   ]
  },
  {
   "cell_type": "markdown",
   "metadata": {},
   "source": [
    "### Python Calculator program"
   ]
  },
  {
   "cell_type": "code",
   "execution_count": 63,
   "metadata": {},
   "outputs": [
    {
     "name": "stdout",
     "output_type": "stream",
     "text": [
      "Invalid operator selected!\n",
      "None\n"
     ]
    }
   ],
   "source": [
    "operator = input(\"Enter the operation you would like to perform (*,/,+,-,%)\")\n",
    "\n",
    "first_num = int(input(\"Enter first number:\"))\n",
    "second_num = int(input(\"Enter second number:\"))\n",
    "\n",
    "if operator == \"+\":\n",
    "    result = first_num + second_num\n",
    "elif operator == \"-\":\n",
    "    result = first_num - second_num\n",
    "elif operator == \"*\":\n",
    "    result = first_num * second_num\n",
    "elif operator == \"/\":\n",
    "    result = first_num / second_num\n",
    "elif operator == \"%\":\n",
    "    result = first_num % second_num\n",
    "else:\n",
    "    result = None\n",
    "    print(\"Invalid operator selected!\")\n",
    "    \n",
    "print(result)"
   ]
  },
  {
   "cell_type": "markdown",
   "metadata": {},
   "source": [
    "### Weight Convertor Program"
   ]
  },
  {
   "cell_type": "code",
   "execution_count": 65,
   "metadata": {},
   "outputs": [
    {
     "name": "stdout",
     "output_type": "stream",
     "text": [
      "Your weight in kilogram is: 61.818\n"
     ]
    }
   ],
   "source": [
    "request = input(\"You want to convert your weight in (pound/kilogram)?\")\n",
    "\n",
    "if request == \"pound\":\n",
    "    weight = float(input(\"Enter you weight in kilogram(kg): \"))\n",
    "    converted_weight = round(2.2 * weight, 3)\n",
    "    print(f\"Your weight in pound is: {converted_weight}\")\n",
    "elif request == \"kilogram\":\n",
    "    weight = float(input(\"Enter your weight in pound(p): \"))\n",
    "    converted_weight = round(weight / 2.2, 3)\n",
    "    print(f\"Your weight in kilogram is: {converted_weight}\")\n",
    "else:\n",
    "    print(\"Invalid Request!\")\n",
    "    \n",
    "\n",
    "    "
   ]
  },
  {
   "cell_type": "markdown",
   "metadata": {},
   "source": [
    "### Temperature Converter Program"
   ]
  },
  {
   "cell_type": "code",
   "execution_count": 69,
   "metadata": {},
   "outputs": [
    {
     "name": "stdout",
     "output_type": "stream",
     "text": [
      "The Tempeature 0.0 in celcius is: 273.0 in kelvin\n"
     ]
    }
   ],
   "source": [
    "curr_degree = input(\"Enter a current form of degree: \")\n",
    "req_degree = input(\"Enter the required form of degree: \")\n",
    "\n",
    "temp = float(input(f\"What is you current temperature in {curr_degree} ?\"))\n",
    "\n",
    "if curr_degree != req_degree:\n",
    "    if curr_degree == \"celcius\":\n",
    "        if req_degree == \"farenheit\":\n",
    "            result = ((9 * temp) / 5 + 32)\n",
    "        elif req_degree == \"kelvin\":\n",
    "            result = temp + 273\n",
    "        else:\n",
    "            print(\"The required form is invalid!\")\n",
    "    elif curr_degree == \"kelvin\":\n",
    "        if req_degree == \"celcius\":\n",
    "            result = temp - 273\n",
    "        elif req_degree == \"farenheit\":\n",
    "            result = (((temp - 273) * 9 ) / 5) + 32\n",
    "        else:\n",
    "            print(\"The required form is invalid!\")\n",
    "    elif curr_degree == \"farenheit\":\n",
    "        if req_degree == \"celcius\":\n",
    "            result = (5 * (temp - 32)) / 9\n",
    "        elif req_degree == \"kelvin\":\n",
    "            result = ((5 * (temp - 32)) / 9) + 273\n",
    "        else:\n",
    "            print(\"The required form is invalid!\")\n",
    "    else: \n",
    "        print(\"The current form in invalid!\")\n",
    "else:\n",
    "    print(\"current form and required form are same. Invalid Input!\")\n",
    "\n",
    "\n",
    "print(f\"The Tempeature {temp} in {curr_degree} is: {result} in {req_degree}\")"
   ]
  },
  {
   "cell_type": "code",
   "execution_count": null,
   "metadata": {},
   "outputs": [],
   "source": []
  }
 ],
 "metadata": {
  "kernelspec": {
   "display_name": "Python 3",
   "language": "python",
   "name": "python3"
  },
  "language_info": {
   "codemirror_mode": {
    "name": "ipython",
    "version": 3
   },
   "file_extension": ".py",
   "mimetype": "text/x-python",
   "name": "python",
   "nbconvert_exporter": "python",
   "pygments_lexer": "ipython3",
   "version": "3.12.2"
  }
 },
 "nbformat": 4,
 "nbformat_minor": 2
}
