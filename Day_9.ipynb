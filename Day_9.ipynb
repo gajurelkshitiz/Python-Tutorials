{
 "cells": [
  {
   "cell_type": "markdown",
   "metadata": {},
   "source": [
    "### Encryption Program"
   ]
  },
  {
   "cell_type": "code",
   "execution_count": 2,
   "metadata": {},
   "outputs": [],
   "source": [
    "import string"
   ]
  },
  {
   "cell_type": "code",
   "execution_count": 3,
   "metadata": {},
   "outputs": [
    {
     "data": {
      "text/plain": [
       "'!\"#$%&\\'()*+,-./:;<=>?@[\\\\]^_`{|}~'"
      ]
     },
     "execution_count": 3,
     "metadata": {},
     "output_type": "execute_result"
    }
   ],
   "source": [
    "string.punctuation"
   ]
  },
  {
   "cell_type": "code",
   "execution_count": 4,
   "metadata": {},
   "outputs": [
    {
     "data": {
      "text/plain": [
       "'abcdefghijklmnopqrstuvwxyzABCDEFGHIJKLMNOPQRSTUVWXYZ'"
      ]
     },
     "execution_count": 4,
     "metadata": {},
     "output_type": "execute_result"
    }
   ],
   "source": [
    "string.ascii_letters"
   ]
  },
  {
   "cell_type": "code",
   "execution_count": 5,
   "metadata": {},
   "outputs": [
    {
     "data": {
      "text/plain": [
       "'0123456789'"
      ]
     },
     "execution_count": 5,
     "metadata": {},
     "output_type": "execute_result"
    }
   ],
   "source": [
    "string.digits"
   ]
  },
  {
   "cell_type": "code",
   "execution_count": 6,
   "metadata": {},
   "outputs": [
    {
     "data": {
      "text/plain": [
       "'0123456789abcdefABCDEF'"
      ]
     },
     "execution_count": 6,
     "metadata": {},
     "output_type": "execute_result"
    }
   ],
   "source": [
    "string.hexdigits"
   ]
  },
  {
   "cell_type": "code",
   "execution_count": 8,
   "metadata": {},
   "outputs": [
    {
     "data": {
      "text/plain": [
       "'!\"#$%&\\'()*+,-./:;<=>?@[\\\\]^_`{|}~0123456789 abcdefghijklmnopqrstuvwxyzABCDEFGHIJKLMNOPQRSTUVWXYZ'"
      ]
     },
     "execution_count": 8,
     "metadata": {},
     "output_type": "execute_result"
    }
   ],
   "source": [
    "string.punctuation + string.digits + \" \" + string.ascii_letters"
   ]
  },
  {
   "cell_type": "code",
   "execution_count": 9,
   "metadata": {},
   "outputs": [],
   "source": [
    "char = string.punctuation + string.digits + \" \" + string.ascii_letters"
   ]
  },
  {
   "cell_type": "code",
   "execution_count": 10,
   "metadata": {},
   "outputs": [],
   "source": [
    "chars = list(char)"
   ]
  },
  {
   "cell_type": "code",
   "execution_count": 11,
   "metadata": {},
   "outputs": [
    {
     "data": {
      "text/plain": [
       "['!',\n",
       " '\"',\n",
       " '#',\n",
       " '$',\n",
       " '%',\n",
       " '&',\n",
       " \"'\",\n",
       " '(',\n",
       " ')',\n",
       " '*',\n",
       " '+',\n",
       " ',',\n",
       " '-',\n",
       " '.',\n",
       " '/',\n",
       " ':',\n",
       " ';',\n",
       " '<',\n",
       " '=',\n",
       " '>',\n",
       " '?',\n",
       " '@',\n",
       " '[',\n",
       " '\\\\',\n",
       " ']',\n",
       " '^',\n",
       " '_',\n",
       " '`',\n",
       " '{',\n",
       " '|',\n",
       " '}',\n",
       " '~',\n",
       " '0',\n",
       " '1',\n",
       " '2',\n",
       " '3',\n",
       " '4',\n",
       " '5',\n",
       " '6',\n",
       " '7',\n",
       " '8',\n",
       " '9',\n",
       " ' ',\n",
       " 'a',\n",
       " 'b',\n",
       " 'c',\n",
       " 'd',\n",
       " 'e',\n",
       " 'f',\n",
       " 'g',\n",
       " 'h',\n",
       " 'i',\n",
       " 'j',\n",
       " 'k',\n",
       " 'l',\n",
       " 'm',\n",
       " 'n',\n",
       " 'o',\n",
       " 'p',\n",
       " 'q',\n",
       " 'r',\n",
       " 's',\n",
       " 't',\n",
       " 'u',\n",
       " 'v',\n",
       " 'w',\n",
       " 'x',\n",
       " 'y',\n",
       " 'z',\n",
       " 'A',\n",
       " 'B',\n",
       " 'C',\n",
       " 'D',\n",
       " 'E',\n",
       " 'F',\n",
       " 'G',\n",
       " 'H',\n",
       " 'I',\n",
       " 'J',\n",
       " 'K',\n",
       " 'L',\n",
       " 'M',\n",
       " 'N',\n",
       " 'O',\n",
       " 'P',\n",
       " 'Q',\n",
       " 'R',\n",
       " 'S',\n",
       " 'T',\n",
       " 'U',\n",
       " 'V',\n",
       " 'W',\n",
       " 'X',\n",
       " 'Y',\n",
       " 'Z']"
      ]
     },
     "execution_count": 11,
     "metadata": {},
     "output_type": "execute_result"
    }
   ],
   "source": [
    "chars"
   ]
  },
  {
   "cell_type": "code",
   "execution_count": 12,
   "metadata": {},
   "outputs": [
    {
     "name": "stdout",
     "output_type": "stream",
     "text": [
      "['!', '\"', '#', '$', '%', '&', \"'\", '(', ')', '*', '+', ',', '-', '.', '/', ':', ';', '<', '=', '>', '?', '@', '[', '\\\\', ']', '^', '_', '`', '{', '|', '}', '~', '0', '1', '2', '3', '4', '5', '6', '7', '8', '9', ' ', 'a', 'b', 'c', 'd', 'e', 'f', 'g', 'h', 'i', 'j', 'k', 'l', 'm', 'n', 'o', 'p', 'q', 'r', 's', 't', 'u', 'v', 'w', 'x', 'y', 'z', 'A', 'B', 'C', 'D', 'E', 'F', 'G', 'H', 'I', 'J', 'K', 'L', 'M', 'N', 'O', 'P', 'Q', 'R', 'S', 'T', 'U', 'V', 'W', 'X', 'Y', 'Z']\n"
     ]
    }
   ],
   "source": [
    "import random\n",
    "\n",
    "key = chars.copy()\n",
    "\n",
    "print(key)"
   ]
  },
  {
   "cell_type": "code",
   "execution_count": 13,
   "metadata": {},
   "outputs": [
    {
     "name": "stdout",
     "output_type": "stream",
     "text": [
      "chars : ['!', '\"', '#', '$', '%', '&', \"'\", '(', ')', '*', '+', ',', '-', '.', '/', ':', ';', '<', '=', '>', '?', '@', '[', '\\\\', ']', '^', '_', '`', '{', '|', '}', '~', '0', '1', '2', '3', '4', '5', '6', '7', '8', '9', ' ', 'a', 'b', 'c', 'd', 'e', 'f', 'g', 'h', 'i', 'j', 'k', 'l', 'm', 'n', 'o', 'p', 'q', 'r', 's', 't', 'u', 'v', 'w', 'x', 'y', 'z', 'A', 'B', 'C', 'D', 'E', 'F', 'G', 'H', 'I', 'J', 'K', 'L', 'M', 'N', 'O', 'P', 'Q', 'R', 'S', 'T', 'U', 'V', 'W', 'X', 'Y', 'Z']\n",
      "key   : ['!', '\"', '#', '$', '%', '&', \"'\", '(', ')', '*', '+', ',', '-', '.', '/', ':', ';', '<', '=', '>', '?', '@', '[', '\\\\', ']', '^', '_', '`', '{', '|', '}', '~', '0', '1', '2', '3', '4', '5', '6', '7', '8', '9', ' ', 'a', 'b', 'c', 'd', 'e', 'f', 'g', 'h', 'i', 'j', 'k', 'l', 'm', 'n', 'o', 'p', 'q', 'r', 's', 't', 'u', 'v', 'w', 'x', 'y', 'z', 'A', 'B', 'C', 'D', 'E', 'F', 'G', 'H', 'I', 'J', 'K', 'L', 'M', 'N', 'O', 'P', 'Q', 'R', 'S', 'T', 'U', 'V', 'W', 'X', 'Y', 'Z']\n"
     ]
    }
   ],
   "source": [
    "print(f\"chars : {chars}\")\n",
    "print(f\"key   : {key}\")"
   ]
  },
  {
   "cell_type": "code",
   "execution_count": 14,
   "metadata": {},
   "outputs": [
    {
     "name": "stdout",
     "output_type": "stream",
     "text": [
      "chars : ['!', '\"', '#', '$', '%', '&', \"'\", '(', ')', '*', '+', ',', '-', '.', '/', ':', ';', '<', '=', '>', '?', '@', '[', '\\\\', ']', '^', '_', '`', '{', '|', '}', '~', '0', '1', '2', '3', '4', '5', '6', '7', '8', '9', ' ', 'a', 'b', 'c', 'd', 'e', 'f', 'g', 'h', 'i', 'j', 'k', 'l', 'm', 'n', 'o', 'p', 'q', 'r', 's', 't', 'u', 'v', 'w', 'x', 'y', 'z', 'A', 'B', 'C', 'D', 'E', 'F', 'G', 'H', 'I', 'J', 'K', 'L', 'M', 'N', 'O', 'P', 'Q', 'R', 'S', 'T', 'U', 'V', 'W', 'X', 'Y', 'Z']\n",
      "key   : [':', ' ', 'C', '{', 'h', '?', 'E', 'P', 'K', '5', \"'\", 't', 'J', ')', ']', '>', '@', 'H', '\"', 'd', '/', 'r', '<', '(', '9', '~', 'v', 'l', 'R', 'a', '.', 'N', 'I', 'x', 'L', 'Z', 'Q', '_', 'm', '+', 'U', 's', 'b', 'F', 'V', 'y', 'i', '$', 'B', ';', 'f', '&', '3', '!', 'c', 'u', '6', '2', 'o', '-', '\\\\', 'j', ',', '%', 'A', 'W', 'G', 'p', 'w', 'O', '1', 'X', 'e', '#', 'k', '8', '4', '[', '|', 'q', '}', '7', 'n', 'D', '*', '^', 'Y', 'S', 'z', 'T', 'g', '0', '`', '=', 'M']\n"
     ]
    }
   ],
   "source": [
    "random.shuffle(key)\n",
    "\n",
    "print(f\"chars : {chars}\")\n",
    "print(f\"key   : {key}\")"
   ]
  },
  {
   "cell_type": "code",
   "execution_count": 15,
   "metadata": {},
   "outputs": [
    {
     "data": {
      "text/plain": [
       "44"
      ]
     },
     "execution_count": 15,
     "metadata": {},
     "output_type": "execute_result"
    }
   ],
   "source": [
    "chars.index('b')"
   ]
  },
  {
   "cell_type": "code",
   "execution_count": 16,
   "metadata": {},
   "outputs": [
    {
     "data": {
      "text/plain": [
       "'V'"
      ]
     },
     "execution_count": 16,
     "metadata": {},
     "output_type": "execute_result"
    }
   ],
   "source": [
    "key[44]"
   ]
  },
  {
   "cell_type": "code",
   "execution_count": 17,
   "metadata": {},
   "outputs": [
    {
     "name": "stdout",
     "output_type": "stream",
     "text": [
      "Plain Text : Hello, How are you? I have been missing you since long time..\n",
      "Encrypted Text : 4$cc2tb42WbF\\$bp2%/b[bfFA$bV$$6bu&jj&6;bp2%bj&6y$bc26;b,&u$))\n"
     ]
    }
   ],
   "source": [
    "# ENCRYPTION:\n",
    "\n",
    "plain_text = input(\"Enter the message to encrypt: \")\n",
    "cipher_text = \"\"\n",
    "\n",
    "for letter in plain_text:\n",
    "    chars_index = chars.index(letter)\n",
    "    cipher_text += key[chars_index]\n",
    "\n",
    "print(f\"Plain Text : {plain_text}\")\n",
    "print(f\"Encrypted Text : {cipher_text}\")\n"
   ]
  },
  {
   "cell_type": "code",
   "execution_count": 18,
   "metadata": {},
   "outputs": [
    {
     "name": "stdout",
     "output_type": "stream",
     "text": [
      "Encrypted Text : 4$cc2tb42WbF\\$bp2%/b[bfFA$bV$$6bu&jj&6;bp2%bj&6y$bc26;b,&u$))\n",
      "Plain Text : Hello, How are you? I have been missing you since long time..\n"
     ]
    }
   ],
   "source": [
    "# DECRYPTION:\n",
    "\n",
    "cipher_text = input(\"Enter the message to encrypt: \")\n",
    "plain_text = \"\"\n",
    "\n",
    "for letter in cipher_text:\n",
    "    key_index = key.index(letter)\n",
    "    plain_text += chars[key_index]\n",
    "\n",
    "print(f\"Encrypted Text : {cipher_text}\")\n",
    "print(f\"Plain Text : {plain_text}\")\n"
   ]
  },
  {
   "cell_type": "markdown",
   "metadata": {},
   "source": [
    "### Hangman Program"
   ]
  },
  {
   "cell_type": "code",
   "execution_count": 19,
   "metadata": {},
   "outputs": [],
   "source": [
    "import random\n"
   ]
  },
  {
   "cell_type": "code",
   "execution_count": 20,
   "metadata": {},
   "outputs": [],
   "source": [
    "words = (\"apple\", \"orange\", \"banana\", \"coconut\", \"pineapple\")"
   ]
  },
  {
   "cell_type": "code",
   "execution_count": 21,
   "metadata": {},
   "outputs": [],
   "source": [
    "hangman_art = {0 : (\"   \",\n",
    "                    \"   \",\n",
    "                    \"   \"),\n",
    "               1 : (\" o \",\n",
    "                    \"   \",\n",
    "                    \"   \"),\n",
    "               2 : (\" o \",\n",
    "                    \" | \",\n",
    "                    \"   \"),\n",
    "               3 : (\" o \",\n",
    "                    \"/|\\\\\",\n",
    "                    \"   \"),\n",
    "               4 : (\" o \",\n",
    "                    \"/|\\\\\",\n",
    "                    \"/  \"),\n",
    "               5 : (\" o \",\n",
    "                    \"/|\\\\\",\n",
    "                    \"/ \\\\\"),}"
   ]
  },
  {
   "cell_type": "code",
   "execution_count": 22,
   "metadata": {},
   "outputs": [
    {
     "data": {
      "text/plain": [
       "('   ', '   ', '   ')"
      ]
     },
     "execution_count": 22,
     "metadata": {},
     "output_type": "execute_result"
    }
   ],
   "source": [
    "hangman_art[0]"
   ]
  },
  {
   "cell_type": "code",
   "execution_count": 23,
   "metadata": {},
   "outputs": [
    {
     "data": {
      "text/plain": [
       "(' o ', '/|\\\\', '/ \\\\')"
      ]
     },
     "execution_count": 23,
     "metadata": {},
     "output_type": "execute_result"
    }
   ],
   "source": [
    "hangman_art[5]"
   ]
  },
  {
   "cell_type": "code",
   "execution_count": 25,
   "metadata": {},
   "outputs": [
    {
     "name": "stdout",
     "output_type": "stream",
     "text": [
      " o \n",
      "/|\\\n",
      "/ \\\n"
     ]
    }
   ],
   "source": [
    "for line in hangman_art[5]:\n",
    "    print(line)"
   ]
  },
  {
   "cell_type": "code",
   "execution_count": null,
   "metadata": {},
   "outputs": [],
   "source": [
    "# skeleton of program:\n",
    "\n",
    "import random\n",
    "\n",
    "words = (\"apple\", \"orange\", \"banana\", \"coconut\", \"pineapple\")\n",
    "\n",
    "hangman_art = {0 : (\"   \",\n",
    "                    \"   \",\n",
    "                    \"   \"),\n",
    "               1 : (\" o \",\n",
    "                    \"   \",\n",
    "                    \"   \"),\n",
    "               2 : (\" o \",\n",
    "                    \" | \",\n",
    "                    \"   \"),\n",
    "               3 : (\" o \",\n",
    "                    \"/|\\\\\",\n",
    "                    \"   \"),\n",
    "               4 : (\" o \",\n",
    "                    \"/|\\\\\",\n",
    "                    \"/  \"),\n",
    "               5 : (\" o \",\n",
    "                    \"/|\\\\\",\n",
    "                    \"/ \\\\\"),}\n",
    "\n",
    "def display_man(wrong_guesses):\n",
    "    pass\n",
    "\n",
    "def display_hint(hint):\n",
    "    pass\n",
    "\n",
    "def display_answer(answer):\n",
    "    pass\n",
    "\n",
    "def main():\n",
    "    pass\n",
    "\n",
    "if __name__ == \"__main__\":\n",
    "    main()"
   ]
  },
  {
   "cell_type": "code",
   "execution_count": 30,
   "metadata": {},
   "outputs": [
    {
     "name": "stdout",
     "output_type": "stream",
     "text": [
      "['_', '_', '_', '_', '_', '_', '_', '_', '_']\n"
     ]
    }
   ],
   "source": [
    "answer = 'pineapple'\n",
    "\n",
    "hint = ['_']*len(answer)\n",
    "print(hint)"
   ]
  },
  {
   "cell_type": "code",
   "execution_count": 29,
   "metadata": {},
   "outputs": [
    {
     "name": "stdout",
     "output_type": "stream",
     "text": [
      "['']\n"
     ]
    }
   ],
   "source": [
    "n_hint = [''*len(answer)]\n",
    "print(n_hint)"
   ]
  },
  {
   "cell_type": "code",
   "execution_count": 32,
   "metadata": {},
   "outputs": [
    {
     "name": "stdout",
     "output_type": "stream",
     "text": [
      "**********\n"
     ]
    }
   ],
   "source": [
    "print(\"*\"*10)"
   ]
  },
  {
   "cell_type": "code",
   "execution_count": 36,
   "metadata": {},
   "outputs": [
    {
     "data": {
      "text/plain": [
       "5"
      ]
     },
     "execution_count": 36,
     "metadata": {},
     "output_type": "execute_result"
    }
   ],
   "source": [
    "random.randint(1,5)"
   ]
  },
  {
   "cell_type": "markdown",
   "metadata": {},
   "source": [
    "## Object:\n",
    "\n",
    "    A \"bundle\" of related attributes (variables) and methods (functions) \n",
    "    Ex. phone, cup, book\n",
    "    You need a \"class\" to create many objects\n",
    "\n",
    "    class = (blueprint) used to design the structure and layout of an object"
   ]
  },
  {
   "cell_type": "code",
   "execution_count": null,
   "metadata": {},
   "outputs": [
    {
     "name": "stdout",
     "output_type": "stream",
     "text": [
      "<__main__.Car object at 0x0000012D6457B080>\n",
      "Tesla\n",
      "grey\n",
      "2023\n",
      "True\n"
     ]
    }
   ],
   "source": [
    "class Car:\n",
    "    def __init__(self, model, year, color, for_sale) -> None:\n",
    "        self.model = model\n",
    "        self.year = year\n",
    "        self.color = color\n",
    "        self.for_sale = for_sale\n",
    "        \n",
    "car1 = Car(\"Tesla\", 2023, \"grey\", True)\n",
    "\n",
    "print(car1)\n",
    "\n",
    "print(car1.model)\n",
    "print(car1.color)\n",
    "print(car1.year)\n",
    "print(car1.for_sale)"
   ]
  },
  {
   "cell_type": "code",
   "execution_count": 39,
   "metadata": {},
   "outputs": [],
   "source": [
    "Car1 = Car(\"Tesla\", 2023, \"grey\", True)\n",
    "Car2 = Car(\"BMW\", 2020, \"red\", False)\n",
    "Car3 = Car(\"Maruti\", 2022, \"blue\", True)\n",
    "car4 = Car(\"Mustang\", 2023, \"white\", True)"
   ]
  },
  {
   "cell_type": "code",
   "execution_count": 40,
   "metadata": {},
   "outputs": [
    {
     "name": "stdout",
     "output_type": "stream",
     "text": [
      "Tesla\n",
      "grey\n",
      "2023\n",
      "True\n"
     ]
    }
   ],
   "source": [
    "print(Car1.model)\n",
    "print(Car1.color)\n",
    "print(Car1.year)\n",
    "print(Car1.for_sale)"
   ]
  },
  {
   "cell_type": "code",
   "execution_count": 41,
   "metadata": {},
   "outputs": [
    {
     "name": "stdout",
     "output_type": "stream",
     "text": [
      "BMW\n",
      "red\n",
      "2020\n",
      "False\n"
     ]
    }
   ],
   "source": [
    "print(Car2.model)\n",
    "print(Car2.color)\n",
    "print(Car2.year)\n",
    "print(Car2.for_sale)"
   ]
  },
  {
   "cell_type": "code",
   "execution_count": 42,
   "metadata": {},
   "outputs": [
    {
     "name": "stdout",
     "output_type": "stream",
     "text": [
      "Maruti\n",
      "blue\n",
      "2022\n",
      "True\n"
     ]
    }
   ],
   "source": [
    "print(Car3.model)\n",
    "print(Car3.color)\n",
    "print(Car3.year)\n",
    "print(Car3.for_sale)"
   ]
  },
  {
   "cell_type": "code",
   "execution_count": null,
   "metadata": {},
   "outputs": [],
   "source": []
  }
 ],
 "metadata": {
  "kernelspec": {
   "display_name": "Python 3",
   "language": "python",
   "name": "python3"
  },
  "language_info": {
   "codemirror_mode": {
    "name": "ipython",
    "version": 3
   },
   "file_extension": ".py",
   "mimetype": "text/x-python",
   "name": "python",
   "nbconvert_exporter": "python",
   "pygments_lexer": "ipython3",
   "version": "3.12.2"
  }
 },
 "nbformat": 4,
 "nbformat_minor": 2
}
