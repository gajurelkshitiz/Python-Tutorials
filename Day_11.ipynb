{
 "cells": [
  {
   "cell_type": "markdown",
   "metadata": {},
   "source": [
    "### @property\n",
    "\n",
    "\n",
    "``` \n",
    "Decorator used to define a method as a property (it can be accessed like an attribute)\n",
    "Benifit: Add additional logic when read, write, or delete attributes \n",
    "Gives you getter, setter, and deleter method. \n",
    "```"
   ]
  },
  {
   "cell_type": "code",
   "execution_count": 2,
   "metadata": {},
   "outputs": [
    {
     "name": "stdout",
     "output_type": "stream",
     "text": [
      "3\n",
      "5\n"
     ]
    }
   ],
   "source": [
    "class Rectangle:\n",
    "    \n",
    "    def __init__(self, width, height):\n",
    "        self.width = width\n",
    "        self.height = height\n",
    "        \n",
    "rectangle = Rectangle(3, 5)\n",
    "print(rectangle.width)\n",
    "print(rectangle.height)"
   ]
  },
  {
   "cell_type": "code",
   "execution_count": null,
   "metadata": {},
   "outputs": [
    {
     "name": "stdout",
     "output_type": "stream",
     "text": [
      "2.0cm\n",
      "4.0cm\n"
     ]
    }
   ],
   "source": [
    "class Rectangle:\n",
    "    \n",
    "    def __init__(self, width, height):\n",
    "        self._width = width\n",
    "        self._height = height\n",
    "    \n",
    "    # GETTER METHOD\n",
    "    @property\n",
    "    def width(self):\n",
    "        return f\"{self._width:.1f} cm\"\n",
    "    \n",
    "    @property\n",
    "    def height(self):\n",
    "        return f\"{self._height:.1f} cm\"\n",
    "    \n",
    "rect = Rectangle(2, 4)\n",
    "print(rect.width)\n",
    "print(rect.height)"
   ]
  },
  {
   "cell_type": "code",
   "execution_count": null,
   "metadata": {},
   "outputs": [
    {
     "name": "stdout",
     "output_type": "stream",
     "text": [
      "Width and height during initialization\n",
      "2.0 cm\n",
      "4.0 cm\n",
      "\n",
      "New Width and height\n",
      "5.0 cm\n",
      "4.0 cm\n",
      "\n",
      "When height equals zero.\n",
      "ValueError: Height must be greater than zero.\n",
      "5.0 cm\n",
      "4.0 cm\n"
     ]
    }
   ],
   "source": [
    "class Rectangle:\n",
    "    \n",
    "    def __init__(self, width, height):\n",
    "        self._width = width\n",
    "        self._height = height           # protected attribute\n",
    "    \n",
    "    # GETTER METHOD\n",
    "    @property\n",
    "    def width(self):\n",
    "        return f\"{self._width:.1f} cm\"\n",
    "    \n",
    "    @property\n",
    "    def height(self):\n",
    "        return f\"{self._height:.1f} cm\"\n",
    "    \n",
    "    # SETTER METHOD\n",
    "    @width.setter\n",
    "    def width(self, new_width):\n",
    "        if new_width > 0:\n",
    "            self._width = new_width\n",
    "        else:\n",
    "            print(\"ValueError: Width must be greater than zero.\")\n",
    "    \n",
    "    @height.setter\n",
    "    def height(self, new_height):\n",
    "        if new_height > 0:\n",
    "            self._height = new_height\n",
    "        else:\n",
    "            print(\"ValueError: Height must be greater than zero.\")\n",
    "    \n",
    "rect = Rectangle(2, 4)\n",
    "print(\"Width and height during initialization\")\n",
    "print(rect.width)\n",
    "print(rect.height)\n",
    "\n",
    "rect.width = 5\n",
    "print(\"\\nNew Width and height\")\n",
    "print(rect.width)\n",
    "print(rect.height)\n",
    "\n",
    "print(\"\\nWhen height equals zero.\")\n",
    "rect.height = -1\n",
    "print(rect.width)\n",
    "print(rect.height)"
   ]
  },
  {
   "cell_type": "code",
   "execution_count": 14,
   "metadata": {},
   "outputs": [
    {
     "name": "stdout",
     "output_type": "stream",
     "text": [
      "Width and height during initialization\n",
      "2.0 cm\n",
      "4.0 cm\n",
      "\n",
      "Width has been deleted.\n",
      "Height has been deleted.\n"
     ]
    }
   ],
   "source": [
    "class Rectangle:\n",
    "    \n",
    "    def __init__(self, width, height):\n",
    "        self._width = width\n",
    "        self._height = height           # protected attribute\n",
    "    \n",
    "    # GETTER METHOD\n",
    "    @property\n",
    "    def width(self):\n",
    "        return f\"{self._width:.1f} cm\"\n",
    "    \n",
    "    @property\n",
    "    def height(self):\n",
    "        return f\"{self._height:.1f} cm\"\n",
    "    \n",
    "    # SETTER METHOD\n",
    "    @width.setter\n",
    "    def width(self, new_width):\n",
    "        if new_width > 0:\n",
    "            self._width = new_width\n",
    "        else:\n",
    "            print(\"ValueError: Width must be greater than zero.\")\n",
    "    \n",
    "    @height.setter\n",
    "    def height(self, new_height):\n",
    "        if new_height > 0:\n",
    "            self._height = new_height\n",
    "        else:\n",
    "            print(\"ValueError: Height must be greater than zero.\")\n",
    "    \n",
    "    # DELETER METHOD   \n",
    "    @width.deleter\n",
    "    def width(self):\n",
    "        del self._width\n",
    "        print(\"Width has been deleted.\")\n",
    "        \n",
    "    @height.deleter\n",
    "    def height(self):\n",
    "        del self._height\n",
    "        print(\"Height has been deleted.\")\n",
    "    \n",
    "rect = Rectangle(2, 4)\n",
    "print(\"Width and height during initialization\")\n",
    "print(rect.width)\n",
    "print(rect.height)\n",
    "\n",
    "# Deleting protected attributes.\n",
    "print()\n",
    "del rect.width\n",
    "del rect.height\n"
   ]
  },
  {
   "cell_type": "markdown",
   "metadata": {},
   "source": [
    "### Decorator:\n",
    "\n",
    "    A function that extends the behavior of another function \n",
    "    without (w/o) modifying the base function\n",
    "    Pass the base function as an argument to the decorator\n",
    "\n",
    "\n",
    "\n",
    "``` Python\n",
    "@add_sprinkles\n",
    "get_ice_cream(\"vanilla\")\n",
    "```\n",
    "\n"
   ]
  },
  {
   "cell_type": "code",
   "execution_count": 15,
   "metadata": {},
   "outputs": [
    {
     "name": "stdout",
     "output_type": "stream",
     "text": [
      "Here is your ice cream 🍦\n"
     ]
    }
   ],
   "source": [
    "def get_ice_cream():\n",
    "    print(\"Here is your ice cream 🍦\")\n",
    "    \n",
    "get_ice_cream()"
   ]
  },
  {
   "cell_type": "code",
   "execution_count": 20,
   "metadata": {},
   "outputs": [
    {
     "name": "stdout",
     "output_type": "stream",
     "text": [
      "*You Added Sprinkles: 🎊*\n",
      "Here is your ice cream 🍦\n"
     ]
    }
   ],
   "source": [
    "def add_sprinkles(func):\n",
    "    def wrapper():\n",
    "        print(\"*You Added Sprinkles: 🎊*\")\n",
    "        func()\n",
    "    return wrapper\n",
    "\n",
    "@add_sprinkles\n",
    "def get_ice_cream():\n",
    "    print(\"Here is your ice cream 🍦\")\n",
    "    \n",
    "get_ice_cream()"
   ]
  },
  {
   "cell_type": "code",
   "execution_count": 24,
   "metadata": {},
   "outputs": [
    {
     "name": "stdout",
     "output_type": "stream",
     "text": [
      "*You Added Sprinkles: 🎊*\n",
      "*You add fudge 🍫*\n",
      "Here is your ice cream 🍦\n"
     ]
    }
   ],
   "source": [
    "def add_sprinkles(func):\n",
    "    def wrapper():\n",
    "        print(\"*You Added Sprinkles: 🎊*\")\n",
    "        func()\n",
    "    return wrapper\n",
    "\n",
    "def add_fudge(func):\n",
    "    def wrapper():\n",
    "        print(\"*You add fudge 🍫*\")\n",
    "        func()\n",
    "    return wrapper\n",
    "\n",
    "@add_sprinkles\n",
    "@add_fudge\n",
    "def get_ice_cream():\n",
    "    print(\"Here is your ice cream 🍦\")\n",
    "    \n",
    "get_ice_cream()"
   ]
  },
  {
   "cell_type": "code",
   "execution_count": 25,
   "metadata": {},
   "outputs": [
    {
     "name": "stdout",
     "output_type": "stream",
     "text": [
      "*You Added Sprinkles: 🎊*\n",
      "*You add fudge 🍫*\n",
      "Here is your Velvet ice cream 🍦\n"
     ]
    }
   ],
   "source": [
    "def add_sprinkles(func):\n",
    "    def wrapper(*args, **kwargs):\n",
    "        print(\"*You Added Sprinkles: 🎊*\")\n",
    "        func(*args, **kwargs)\n",
    "    return wrapper\n",
    "\n",
    "def add_fudge(func):\n",
    "    def wrapper(*args, **kwargs):\n",
    "        print(\"*You add fudge 🍫*\")\n",
    "        func(*args, **kwargs)\n",
    "    return wrapper\n",
    "\n",
    "@add_sprinkles\n",
    "@add_fudge\n",
    "def get_ice_cream(flavour):\n",
    "    print(f\"Here is your {flavour} ice cream 🍦\")\n",
    "    \n",
    "get_ice_cream(\"Velvet\")"
   ]
  },
  {
   "cell_type": "markdown",
   "metadata": {},
   "source": [
    "**Exception**\n",
    "\n",
    ":  An event that interrupts the flow of a program\n",
    "\n",
    "``` (ZeroDivisionError, TypeError, ValueError) ```\n",
    "\n",
    "1. try,\n",
    "2. except,\n",
    "3. finally"
   ]
  },
  {
   "cell_type": "code",
   "execution_count": 26,
   "metadata": {},
   "outputs": [
    {
     "ename": "ZeroDivisionError",
     "evalue": "division by zero",
     "output_type": "error",
     "traceback": [
      "\u001b[1;31m---------------------------------------------------------------------------\u001b[0m",
      "\u001b[1;31mZeroDivisionError\u001b[0m                         Traceback (most recent call last)",
      "Cell \u001b[1;32mIn[26], line 1\u001b[0m\n\u001b[1;32m----> 1\u001b[0m \u001b[38;5;241;43m1\u001b[39;49m\u001b[38;5;241;43m/\u001b[39;49m\u001b[38;5;241;43m0\u001b[39;49m\n",
      "\u001b[1;31mZeroDivisionError\u001b[0m: division by zero"
     ]
    }
   ],
   "source": [
    "1/0"
   ]
  },
  {
   "cell_type": "code",
   "execution_count": 27,
   "metadata": {},
   "outputs": [
    {
     "ename": "TypeError",
     "evalue": "can only concatenate str (not \"int\") to str",
     "output_type": "error",
     "traceback": [
      "\u001b[1;31m---------------------------------------------------------------------------\u001b[0m",
      "\u001b[1;31mTypeError\u001b[0m                                 Traceback (most recent call last)",
      "Cell \u001b[1;32mIn[27], line 1\u001b[0m\n\u001b[1;32m----> 1\u001b[0m \u001b[38;5;124;43m\"\u001b[39;49m\u001b[38;5;124;43mabc \u001b[39;49m\u001b[38;5;124;43m\"\u001b[39;49m\u001b[43m \u001b[49m\u001b[38;5;241;43m+\u001b[39;49m\u001b[43m \u001b[49m\u001b[38;5;241;43m1\u001b[39;49m\n",
      "\u001b[1;31mTypeError\u001b[0m: can only concatenate str (not \"int\") to str"
     ]
    }
   ],
   "source": [
    "\"abc \" + 1"
   ]
  },
  {
   "cell_type": "code",
   "execution_count": 28,
   "metadata": {},
   "outputs": [
    {
     "ename": "ValueError",
     "evalue": "invalid literal for int() with base 10: 'Pizza'",
     "output_type": "error",
     "traceback": [
      "\u001b[1;31m---------------------------------------------------------------------------\u001b[0m",
      "\u001b[1;31mValueError\u001b[0m                                Traceback (most recent call last)",
      "Cell \u001b[1;32mIn[28], line 1\u001b[0m\n\u001b[1;32m----> 1\u001b[0m \u001b[38;5;28;43mint\u001b[39;49m\u001b[43m(\u001b[49m\u001b[38;5;124;43m\"\u001b[39;49m\u001b[38;5;124;43mPizza\u001b[39;49m\u001b[38;5;124;43m\"\u001b[39;49m\u001b[43m)\u001b[49m\n",
      "\u001b[1;31mValueError\u001b[0m: invalid literal for int() with base 10: 'Pizza'"
     ]
    }
   ],
   "source": [
    "int(\"Pizza\")"
   ]
  },
  {
   "cell_type": "code",
   "execution_count": 34,
   "metadata": {},
   "outputs": [
    {
     "name": "stdout",
     "output_type": "stream",
     "text": [
      "You can't divide by zero!\n",
      "Do some cleanup Here.\n"
     ]
    }
   ],
   "source": [
    "try:\n",
    "    number = int(input(\"Enter a number: \"))\n",
    "    print(1/number)\n",
    "except ZeroDivisionError:\n",
    "    print(\"You can't divide by zero!\")\n",
    "except ValueError:\n",
    "    print(\"Enter only numbers!\")\n",
    "except Exception:\n",
    "    print(\"Something went wrong!\")\n",
    "finally:\n",
    "    print(\"Do some cleanup Here.\")\n",
    "    \n",
    "    "
   ]
  },
  {
   "cell_type": "code",
   "execution_count": null,
   "metadata": {},
   "outputs": [],
   "source": []
  }
 ],
 "metadata": {
  "kernelspec": {
   "display_name": "Python 3",
   "language": "python",
   "name": "python3"
  },
  "language_info": {
   "codemirror_mode": {
    "name": "ipython",
    "version": 3
   },
   "file_extension": ".py",
   "mimetype": "text/x-python",
   "name": "python",
   "nbconvert_exporter": "python",
   "pygments_lexer": "ipython3",
   "version": "3.12.2"
  }
 },
 "nbformat": 4,
 "nbformat_minor": 2
}
