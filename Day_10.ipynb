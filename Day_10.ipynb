{
 "cells": [
  {
   "cell_type": "markdown",
   "metadata": {},
   "source": [
    "### Class Varaibles:\n",
    "\n",
    ">   Shared among all intances of a class\n",
    "\n",
    ">   Defined outside the constructor\n",
    "\n",
    ">   Allow you to share data among all objects created from that class"
   ]
  },
  {
   "cell_type": "code",
   "execution_count": null,
   "metadata": {
    "vscode": {
     "languageId": "latex"
    }
   },
   "outputs": [],
   "source": [
    "# Example:\n",
    "\n",
    "class Car:\n",
    "    num_wheels = 4      # Class Variable\n",
    "\n",
    "    def __init__(self, model, year):\n",
    "        self.model = model       ## instance Variable\n",
    "        self.year = year         ## instance Variable"
   ]
  },
  {
   "cell_type": "code",
   "execution_count": 2,
   "metadata": {},
   "outputs": [],
   "source": [
    "class Student:\n",
    "    \n",
    "    batch = 2023\n",
    "    \n",
    "    def __init__(self, name, age):\n",
    "        self.name = name\n",
    "        self.age = age\n",
    "        "
   ]
  },
  {
   "cell_type": "code",
   "execution_count": 3,
   "metadata": {},
   "outputs": [
    {
     "name": "stdout",
     "output_type": "stream",
     "text": [
      "Patrick\n",
      "20\n",
      "\n",
      "Spongebob\n",
      "22\n",
      "\n",
      "student1.batch : 2023\n",
      "student2.batch : 2023\n",
      "2023\n"
     ]
    }
   ],
   "source": [
    "student1 = Student(\"Patrick\", 20)\n",
    "student2 = Student(\"Spongebob\", 22)\n",
    "\n",
    "print(student1.name)\n",
    "print(student1.age)\n",
    "print()\n",
    "print(student2.name)\n",
    "print(student2.age)\n",
    "print()\n",
    "print(f'student1.batch : {student1.batch}')\n",
    "print(f'student2.batch : {student2.batch}')\n",
    "\n",
    "## class variable is written as:\n",
    "\n",
    "print(Student.batch)\n"
   ]
  },
  {
   "cell_type": "code",
   "execution_count": 4,
   "metadata": {},
   "outputs": [],
   "source": [
    "class Student:\n",
    "    \n",
    "    batch = 2023\n",
    "    num_student = 0\n",
    "    \n",
    "    def __init__(self, name, age):\n",
    "        self.name = name\n",
    "        self.age = age\n",
    "        # incrementing num of student while making objects of 'Student' class\n",
    "        Student.num_student += 1\n",
    "        "
   ]
  },
  {
   "cell_type": "code",
   "execution_count": 5,
   "metadata": {},
   "outputs": [],
   "source": [
    "student1 = Student(\"Patrick\", 20)\n",
    "student2 = Student(\"Spongebob\", 22)\n",
    "student3 = Student(\"JeansPant\", 19)\n",
    "student4 = Student(\"BlueShirt\", 21)"
   ]
  },
  {
   "cell_type": "code",
   "execution_count": 6,
   "metadata": {},
   "outputs": [
    {
     "name": "stdout",
     "output_type": "stream",
     "text": [
      "Patrick\n",
      "20\n",
      "\n",
      "Spongebob\n",
      "22\n",
      "\n",
      "JeansPant\n",
      "19\n",
      "\n",
      "BlueShirt\n",
      "21\n",
      "\n",
      "Batch year: 2023\n",
      "num_of students: 4\n"
     ]
    }
   ],
   "source": [
    "print(student1.name)\n",
    "print(student1.age)\n",
    "print()\n",
    "print(student2.name)\n",
    "print(student2.age)\n",
    "print()\n",
    "print(student3.name)\n",
    "print(student3.age)\n",
    "print()\n",
    "print(student4.name)\n",
    "print(student4.age)\n",
    "print()\n",
    "print(f\"Batch year: {Student.batch}\")\n",
    "print(f\"num_of students: {Student.num_student}\")"
   ]
  },
  {
   "cell_type": "markdown",
   "metadata": {},
   "source": [
    "### Inheritance:\n",
    "\n",
    ">   Allows a class to inherit attributes and methods from another class\n",
    "\n",
    ">   Helps with code reusuability and extensibility\n",
    "\n",
    ">   SYNTAX:    *` class Child(Parent) `*"
   ]
  },
  {
   "cell_type": "raw",
   "metadata": {
    "vscode": {
     "languageId": "raw"
    }
   },
   "source": [
    "            Animal\n",
    "              |\n",
    "              |\n",
    "  -----------------------------\n",
    "  |           |               |\n",
    " Dog         Cat            Mouse"
   ]
  },
  {
   "cell_type": "code",
   "execution_count": 12,
   "metadata": {},
   "outputs": [],
   "source": [
    "class Animal:\n",
    "    \n",
    "    def __init__(self, name):\n",
    "        self.name = name\n",
    "        self.is_alive = True\n",
    "        \n",
    "    def eat(self):\n",
    "        print(f\"{self.name} eats.\")\n",
    "        \n",
    "    def sleep(self):\n",
    "        print(f\"{self.name} sleeps.\")\n",
    "        \n",
    "\n",
    "class Dog(Animal):\n",
    "    pass\n",
    "\n",
    "class Cat(Animal):\n",
    "    pass\n",
    "\n",
    "class Mouse(Animal):\n",
    "    pass"
   ]
  },
  {
   "cell_type": "code",
   "execution_count": 13,
   "metadata": {},
   "outputs": [
    {
     "name": "stdout",
     "output_type": "stream",
     "text": [
      "Kukur\n",
      "True\n",
      "Kukur eats.\n",
      "Kukur sleeps.\n"
     ]
    }
   ],
   "source": [
    "kutta = Dog(\"Kukur\")\n",
    "billi = Cat(\"Biralo\")\n",
    "chuha = Mouse(\"Muso\")\n",
    "\n",
    "print(kutta.name)\n",
    "print(kutta.is_alive)\n",
    "kutta.eat()\n",
    "kutta.sleep()"
   ]
  },
  {
   "cell_type": "code",
   "execution_count": 14,
   "metadata": {},
   "outputs": [
    {
     "name": "stdout",
     "output_type": "stream",
     "text": [
      "Biralo\n",
      "True\n",
      "Biralo eats.\n",
      "Biralo sleeps.\n"
     ]
    }
   ],
   "source": [
    "print(billi.name)\n",
    "print(billi.is_alive)\n",
    "billi.eat()\n",
    "billi.sleep()"
   ]
  },
  {
   "cell_type": "code",
   "execution_count": 39,
   "metadata": {},
   "outputs": [],
   "source": [
    "class Animal:\n",
    "    \n",
    "    can_breathe = True\n",
    "    \n",
    "    def __init__(self, name):\n",
    "        self.name = name\n",
    "        self.is_alive = True\n",
    "        \n",
    "    def eat(self):\n",
    "        print(f\"{self.name} eats.\")\n",
    "        \n",
    "    def sleep(self):\n",
    "        print(f\"{self.name} sleeps.\")\n",
    "        \n",
    "\n",
    "class Dog(Animal):\n",
    "    \n",
    "    is_happy = True\n",
    "    \n",
    "    def bark(self):\n",
    "        print(f\"{self.name} Barks.\")\n",
    "\n",
    "class Cat(Animal):\n",
    "    \n",
    "    num_legs = 4\n",
    "    \n",
    "    def meow(self):\n",
    "        print(f\"{self.name} meow's.\")\n",
    "\n",
    "class Mouse(Animal):\n",
    "    \n",
    "    color = \"Brown\"\n",
    "    \n",
    "    def chirp(self):\n",
    "        print(f\"{self.name} chirps.\")"
   ]
  },
  {
   "cell_type": "code",
   "execution_count": 40,
   "metadata": {},
   "outputs": [
    {
     "data": {
      "text/plain": [
       "True"
      ]
     },
     "execution_count": 40,
     "metadata": {},
     "output_type": "execute_result"
    }
   ],
   "source": [
    "Animal.can_breathe"
   ]
  },
  {
   "cell_type": "code",
   "execution_count": null,
   "metadata": {},
   "outputs": [],
   "source": [
    "dog = Dog(\"Jacky\")      # object initialization."
   ]
  },
  {
   "cell_type": "code",
   "execution_count": 35,
   "metadata": {},
   "outputs": [
    {
     "name": "stdout",
     "output_type": "stream",
     "text": [
      "True\n"
     ]
    }
   ],
   "source": [
    "print(Dog.is_happy)"
   ]
  },
  {
   "cell_type": "code",
   "execution_count": 38,
   "metadata": {},
   "outputs": [
    {
     "name": "stdout",
     "output_type": "stream",
     "text": [
      "Jacky\n",
      "True\n",
      "True\n",
      "Jacky Barks.\n"
     ]
    }
   ],
   "source": [
    "print(dog.name)\n",
    "print(dog.is_alive)\n",
    "print(Dog.is_happy)     # class variable\n",
    "\n",
    "dog.bark()\n"
   ]
  },
  {
   "cell_type": "code",
   "execution_count": null,
   "metadata": {},
   "outputs": [
    {
     "name": "stdout",
     "output_type": "stream",
     "text": [
      "Jacky Barks.\n"
     ]
    }
   ],
   "source": []
  },
  {
   "cell_type": "code",
   "execution_count": null,
   "metadata": {},
   "outputs": [],
   "source": []
  },
  {
   "cell_type": "code",
   "execution_count": 33,
   "metadata": {},
   "outputs": [
    {
     "data": {
      "text/plain": [
       "True"
      ]
     },
     "execution_count": 33,
     "metadata": {},
     "output_type": "execute_result"
    }
   ],
   "source": [
    "Dog.is_happy"
   ]
  },
  {
   "cell_type": "code",
   "execution_count": 43,
   "metadata": {},
   "outputs": [
    {
     "name": "stdout",
     "output_type": "stream",
     "text": [
      "Brown\n",
      "chhucundre chirps.\n"
     ]
    }
   ],
   "source": [
    "mouse = Mouse(\"chhucundre\")\n",
    "\n",
    "print(Mouse.color)\n",
    "mouse.chirp()"
   ]
  },
  {
   "cell_type": "markdown",
   "metadata": {},
   "source": [
    "### Multiple inheritance\n",
    "\n",
    "    inherit from more than one parent class\n",
    "\n",
    "    C (A, B)\n",
    "\n",
    "\n",
    "### Multilevel inheritance\n",
    "\n",
    "    inherit from a parent which inherits from another parent\n",
    "\n",
    "    C (B) <-- B (A) <-- A"
   ]
  },
  {
   "cell_type": "code",
   "execution_count": 45,
   "metadata": {},
   "outputs": [],
   "source": [
    "class Prey:\n",
    "    def flee(self):\n",
    "        print(\"This animal is fleeing.\")\n",
    "        \n",
    "class Preditor:\n",
    "    def hunt(self):\n",
    "        print(\"This animal is haunting.\")\n",
    "        \n",
    "class Rabbit(Prey):\n",
    "    pass\n",
    "\n",
    "class Hawk(Preditor):\n",
    "    pass\n",
    "\n",
    "class Fish(Prey, Preditor):\n",
    "    pass\n",
    "\n"
   ]
  },
  {
   "cell_type": "code",
   "execution_count": 46,
   "metadata": {},
   "outputs": [
    {
     "name": "stdout",
     "output_type": "stream",
     "text": [
      "This animal is fleeing.\n"
     ]
    }
   ],
   "source": [
    "rabbit = Rabbit()\n",
    "\n",
    "rabbit.flee()"
   ]
  },
  {
   "cell_type": "code",
   "execution_count": 47,
   "metadata": {},
   "outputs": [
    {
     "name": "stdout",
     "output_type": "stream",
     "text": [
      "This animal is haunting.\n"
     ]
    }
   ],
   "source": [
    "hawk = Hawk()\n",
    "\n",
    "hawk.hunt()"
   ]
  },
  {
   "cell_type": "code",
   "execution_count": 48,
   "metadata": {},
   "outputs": [
    {
     "ename": "AttributeError",
     "evalue": "'Hawk' object has no attribute 'flee'",
     "output_type": "error",
     "traceback": [
      "\u001b[1;31m---------------------------------------------------------------------------\u001b[0m",
      "\u001b[1;31mAttributeError\u001b[0m                            Traceback (most recent call last)",
      "Cell \u001b[1;32mIn[48], line 1\u001b[0m\n\u001b[1;32m----> 1\u001b[0m \u001b[43mhawk\u001b[49m\u001b[38;5;241;43m.\u001b[39;49m\u001b[43mflee\u001b[49m()\n",
      "\u001b[1;31mAttributeError\u001b[0m: 'Hawk' object has no attribute 'flee'"
     ]
    }
   ],
   "source": [
    "hawk.flee()"
   ]
  },
  {
   "cell_type": "code",
   "execution_count": 49,
   "metadata": {},
   "outputs": [
    {
     "name": "stdout",
     "output_type": "stream",
     "text": [
      "This animal is fleeing.\n",
      "This animal is haunting.\n"
     ]
    }
   ],
   "source": [
    "fish = Fish()\n",
    "\n",
    "fish.flee()\n",
    "\n",
    "fish.hunt()"
   ]
  },
  {
   "cell_type": "code",
   "execution_count": 50,
   "metadata": {},
   "outputs": [],
   "source": [
    "## Multi-level Inheritance\n",
    "\n",
    "\n",
    "class Animal:\n",
    "    def eat(self):\n",
    "        print(\"This animal is eating.\")\n",
    "        \n",
    "    def sleep(self):\n",
    "        print(\"This animal is sleeping.\")\n",
    "    \n",
    "class Prey(Animal):\n",
    "    def flee(self):\n",
    "        print(\"This animal is fleeing.\")\n",
    "        \n",
    "class Preditor(Animal):\n",
    "    def hunt(self):\n",
    "        print(\"This animal is haunting.\")\n",
    "        \n",
    "class Rabbit(Prey):\n",
    "    pass\n",
    "\n",
    "class Hawk(Preditor):\n",
    "    pass\n",
    "\n",
    "class Fish(Prey, Preditor):\n",
    "    pass"
   ]
  },
  {
   "cell_type": "code",
   "execution_count": null,
   "metadata": {},
   "outputs": [
    {
     "name": "stdout",
     "output_type": "stream",
     "text": [
      "This animal is fleeing.\n",
      "This animal is eating.\n"
     ]
    }
   ],
   "source": [
    "rabbit = Rabbit()\n",
    "\n",
    "rabbit.flee()\n",
    "rabbit.eat()        # multi-level function call in inheritance."
   ]
  },
  {
   "cell_type": "code",
   "execution_count": null,
   "metadata": {},
   "outputs": [],
   "source": []
  }
 ],
 "metadata": {
  "kernelspec": {
   "display_name": "Python 3",
   "language": "python",
   "name": "python3"
  },
  "language_info": {
   "codemirror_mode": {
    "name": "ipython",
    "version": 3
   },
   "file_extension": ".py",
   "mimetype": "text/x-python",
   "name": "python",
   "nbconvert_exporter": "python",
   "pygments_lexer": "ipython3",
   "version": "3.12.2"
  }
 },
 "nbformat": 4,
 "nbformat_minor": 2
}
