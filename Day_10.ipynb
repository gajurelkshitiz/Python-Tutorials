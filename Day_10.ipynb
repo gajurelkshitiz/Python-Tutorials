{
 "cells": [
  {
   "cell_type": "markdown",
   "metadata": {},
   "source": [
    "### Class Varaibles:\n",
    "\n",
    ">   Shared among all intances of a class\n",
    "\n",
    ">   Defined outside the constructor\n",
    "\n",
    ">   Allow you to share data among all objects created from that class"
   ]
  },
  {
   "cell_type": "code",
   "execution_count": null,
   "metadata": {
    "vscode": {
     "languageId": "latex"
    }
   },
   "outputs": [],
   "source": [
    "# Example:\n",
    "\n",
    "class Car:\n",
    "    num_wheels = 4      # Class Variable\n",
    "\n",
    "    def __init__(self, model, year):\n",
    "        self.model = model       ## instance Variable\n",
    "        self.year = year         ## instance Variable"
   ]
  },
  {
   "cell_type": "code",
   "execution_count": 2,
   "metadata": {},
   "outputs": [],
   "source": [
    "class Student:\n",
    "    \n",
    "    batch = 2023\n",
    "    \n",
    "    def __init__(self, name, age):\n",
    "        self.name = name\n",
    "        self.age = age\n",
    "        "
   ]
  },
  {
   "cell_type": "code",
   "execution_count": 3,
   "metadata": {},
   "outputs": [
    {
     "name": "stdout",
     "output_type": "stream",
     "text": [
      "Patrick\n",
      "20\n",
      "\n",
      "Spongebob\n",
      "22\n",
      "\n",
      "student1.batch : 2023\n",
      "student2.batch : 2023\n",
      "2023\n"
     ]
    }
   ],
   "source": [
    "student1 = Student(\"Patrick\", 20)\n",
    "student2 = Student(\"Spongebob\", 22)\n",
    "\n",
    "print(student1.name)\n",
    "print(student1.age)\n",
    "print()\n",
    "print(student2.name)\n",
    "print(student2.age)\n",
    "print()\n",
    "print(f'student1.batch : {student1.batch}')\n",
    "print(f'student2.batch : {student2.batch}')\n",
    "\n",
    "## class variable is written as:\n",
    "\n",
    "print(Student.batch)\n"
   ]
  },
  {
   "cell_type": "code",
   "execution_count": 4,
   "metadata": {},
   "outputs": [],
   "source": [
    "class Student:\n",
    "    \n",
    "    batch = 2023\n",
    "    num_student = 0\n",
    "    \n",
    "    def __init__(self, name, age):\n",
    "        self.name = name\n",
    "        self.age = age\n",
    "        # incrementing num of student while making objects of 'Student' class\n",
    "        Student.num_student += 1\n",
    "        "
   ]
  },
  {
   "cell_type": "code",
   "execution_count": 5,
   "metadata": {},
   "outputs": [],
   "source": [
    "student1 = Student(\"Patrick\", 20)\n",
    "student2 = Student(\"Spongebob\", 22)\n",
    "student3 = Student(\"JeansPant\", 19)\n",
    "student4 = Student(\"BlueShirt\", 21)"
   ]
  },
  {
   "cell_type": "code",
   "execution_count": 6,
   "metadata": {},
   "outputs": [
    {
     "name": "stdout",
     "output_type": "stream",
     "text": [
      "Patrick\n",
      "20\n",
      "\n",
      "Spongebob\n",
      "22\n",
      "\n",
      "JeansPant\n",
      "19\n",
      "\n",
      "BlueShirt\n",
      "21\n",
      "\n",
      "Batch year: 2023\n",
      "num_of students: 4\n"
     ]
    }
   ],
   "source": [
    "print(student1.name)\n",
    "print(student1.age)\n",
    "print()\n",
    "print(student2.name)\n",
    "print(student2.age)\n",
    "print()\n",
    "print(student3.name)\n",
    "print(student3.age)\n",
    "print()\n",
    "print(student4.name)\n",
    "print(student4.age)\n",
    "print()\n",
    "print(f\"Batch year: {Student.batch}\")\n",
    "print(f\"num_of students: {Student.num_student}\")"
   ]
  },
  {
   "cell_type": "markdown",
   "metadata": {},
   "source": [
    "### Inheritance:\n",
    "\n",
    ">   Allows a class to inherit attributes and methods from another class\n",
    "\n",
    ">   Helps with code reusuability and extensibility\n",
    "\n",
    ">   SYNTAX:    *` class Child(Parent) `*"
   ]
  },
  {
   "cell_type": "raw",
   "metadata": {
    "vscode": {
     "languageId": "raw"
    }
   },
   "source": [
    "            Animal\n",
    "              |\n",
    "              |\n",
    "  -----------------------------\n",
    "  |           |               |\n",
    " Dog         Cat            Mouse"
   ]
  },
  {
   "cell_type": "code",
   "execution_count": 12,
   "metadata": {},
   "outputs": [],
   "source": [
    "class Animal:\n",
    "    \n",
    "    def __init__(self, name):\n",
    "        self.name = name\n",
    "        self.is_alive = True\n",
    "        \n",
    "    def eat(self):\n",
    "        print(f\"{self.name} eats.\")\n",
    "        \n",
    "    def sleep(self):\n",
    "        print(f\"{self.name} sleeps.\")\n",
    "        \n",
    "\n",
    "class Dog(Animal):\n",
    "    pass\n",
    "\n",
    "class Cat(Animal):\n",
    "    pass\n",
    "\n",
    "class Mouse(Animal):\n",
    "    pass"
   ]
  },
  {
   "cell_type": "code",
   "execution_count": 13,
   "metadata": {},
   "outputs": [
    {
     "name": "stdout",
     "output_type": "stream",
     "text": [
      "Kukur\n",
      "True\n",
      "Kukur eats.\n",
      "Kukur sleeps.\n"
     ]
    }
   ],
   "source": [
    "kutta = Dog(\"Kukur\")\n",
    "billi = Cat(\"Biralo\")\n",
    "chuha = Mouse(\"Muso\")\n",
    "\n",
    "print(kutta.name)\n",
    "print(kutta.is_alive)\n",
    "kutta.eat()\n",
    "kutta.sleep()"
   ]
  },
  {
   "cell_type": "code",
   "execution_count": 14,
   "metadata": {},
   "outputs": [
    {
     "name": "stdout",
     "output_type": "stream",
     "text": [
      "Biralo\n",
      "True\n",
      "Biralo eats.\n",
      "Biralo sleeps.\n"
     ]
    }
   ],
   "source": [
    "print(billi.name)\n",
    "print(billi.is_alive)\n",
    "billi.eat()\n",
    "billi.sleep()"
   ]
  },
  {
   "cell_type": "code",
   "execution_count": 39,
   "metadata": {},
   "outputs": [],
   "source": [
    "class Animal:\n",
    "    \n",
    "    can_breathe = True\n",
    "    \n",
    "    def __init__(self, name):\n",
    "        self.name = name\n",
    "        self.is_alive = True\n",
    "        \n",
    "    def eat(self):\n",
    "        print(f\"{self.name} eats.\")\n",
    "        \n",
    "    def sleep(self):\n",
    "        print(f\"{self.name} sleeps.\")\n",
    "        \n",
    "\n",
    "class Dog(Animal):\n",
    "    \n",
    "    is_happy = True\n",
    "    \n",
    "    def bark(self):\n",
    "        print(f\"{self.name} Barks.\")\n",
    "\n",
    "class Cat(Animal):\n",
    "    \n",
    "    num_legs = 4\n",
    "    \n",
    "    def meow(self):\n",
    "        print(f\"{self.name} meow's.\")\n",
    "\n",
    "class Mouse(Animal):\n",
    "    \n",
    "    color = \"Brown\"\n",
    "    \n",
    "    def chirp(self):\n",
    "        print(f\"{self.name} chirps.\")"
   ]
  },
  {
   "cell_type": "code",
   "execution_count": 40,
   "metadata": {},
   "outputs": [
    {
     "data": {
      "text/plain": [
       "True"
      ]
     },
     "execution_count": 40,
     "metadata": {},
     "output_type": "execute_result"
    }
   ],
   "source": [
    "Animal.can_breathe"
   ]
  },
  {
   "cell_type": "code",
   "execution_count": null,
   "metadata": {},
   "outputs": [],
   "source": [
    "dog = Dog(\"Jacky\")      # object initialization."
   ]
  },
  {
   "cell_type": "code",
   "execution_count": 35,
   "metadata": {},
   "outputs": [
    {
     "name": "stdout",
     "output_type": "stream",
     "text": [
      "True\n"
     ]
    }
   ],
   "source": [
    "print(Dog.is_happy)"
   ]
  },
  {
   "cell_type": "code",
   "execution_count": 38,
   "metadata": {},
   "outputs": [
    {
     "name": "stdout",
     "output_type": "stream",
     "text": [
      "Jacky\n",
      "True\n",
      "True\n",
      "Jacky Barks.\n"
     ]
    }
   ],
   "source": [
    "print(dog.name)\n",
    "print(dog.is_alive)\n",
    "print(Dog.is_happy)     # class variable\n",
    "\n",
    "dog.bark()\n"
   ]
  },
  {
   "cell_type": "code",
   "execution_count": null,
   "metadata": {},
   "outputs": [
    {
     "name": "stdout",
     "output_type": "stream",
     "text": [
      "Jacky Barks.\n"
     ]
    }
   ],
   "source": []
  },
  {
   "cell_type": "code",
   "execution_count": null,
   "metadata": {},
   "outputs": [],
   "source": []
  },
  {
   "cell_type": "code",
   "execution_count": 33,
   "metadata": {},
   "outputs": [
    {
     "data": {
      "text/plain": [
       "True"
      ]
     },
     "execution_count": 33,
     "metadata": {},
     "output_type": "execute_result"
    }
   ],
   "source": [
    "Dog.is_happy"
   ]
  },
  {
   "cell_type": "code",
   "execution_count": 43,
   "metadata": {},
   "outputs": [
    {
     "name": "stdout",
     "output_type": "stream",
     "text": [
      "Brown\n",
      "chhucundre chirps.\n"
     ]
    }
   ],
   "source": [
    "mouse = Mouse(\"chhucundre\")\n",
    "\n",
    "print(Mouse.color)\n",
    "mouse.chirp()"
   ]
  },
  {
   "cell_type": "markdown",
   "metadata": {},
   "source": [
    "### Multiple inheritance\n",
    "\n",
    "    inherit from more than one parent class\n",
    "\n",
    "    C (A, B)\n",
    "\n",
    "\n",
    "### Multilevel inheritance\n",
    "\n",
    "    inherit from a parent which inherits from another parent\n",
    "\n",
    "    C (B) <-- B (A) <-- A"
   ]
  },
  {
   "cell_type": "code",
   "execution_count": 45,
   "metadata": {},
   "outputs": [],
   "source": [
    "class Prey:\n",
    "    def flee(self):\n",
    "        print(\"This animal is fleeing.\")\n",
    "        \n",
    "class Preditor:\n",
    "    def hunt(self):\n",
    "        print(\"This animal is haunting.\")\n",
    "        \n",
    "class Rabbit(Prey):\n",
    "    pass\n",
    "\n",
    "class Hawk(Preditor):\n",
    "    pass\n",
    "\n",
    "class Fish(Prey, Preditor):\n",
    "    pass\n",
    "\n"
   ]
  },
  {
   "cell_type": "code",
   "execution_count": 46,
   "metadata": {},
   "outputs": [
    {
     "name": "stdout",
     "output_type": "stream",
     "text": [
      "This animal is fleeing.\n"
     ]
    }
   ],
   "source": [
    "rabbit = Rabbit()\n",
    "\n",
    "rabbit.flee()"
   ]
  },
  {
   "cell_type": "code",
   "execution_count": 47,
   "metadata": {},
   "outputs": [
    {
     "name": "stdout",
     "output_type": "stream",
     "text": [
      "This animal is haunting.\n"
     ]
    }
   ],
   "source": [
    "hawk = Hawk()\n",
    "\n",
    "hawk.hunt()"
   ]
  },
  {
   "cell_type": "code",
   "execution_count": 48,
   "metadata": {},
   "outputs": [
    {
     "ename": "AttributeError",
     "evalue": "'Hawk' object has no attribute 'flee'",
     "output_type": "error",
     "traceback": [
      "\u001b[1;31m---------------------------------------------------------------------------\u001b[0m",
      "\u001b[1;31mAttributeError\u001b[0m                            Traceback (most recent call last)",
      "Cell \u001b[1;32mIn[48], line 1\u001b[0m\n\u001b[1;32m----> 1\u001b[0m \u001b[43mhawk\u001b[49m\u001b[38;5;241;43m.\u001b[39;49m\u001b[43mflee\u001b[49m()\n",
      "\u001b[1;31mAttributeError\u001b[0m: 'Hawk' object has no attribute 'flee'"
     ]
    }
   ],
   "source": [
    "hawk.flee()"
   ]
  },
  {
   "cell_type": "code",
   "execution_count": 49,
   "metadata": {},
   "outputs": [
    {
     "name": "stdout",
     "output_type": "stream",
     "text": [
      "This animal is fleeing.\n",
      "This animal is haunting.\n"
     ]
    }
   ],
   "source": [
    "fish = Fish()\n",
    "\n",
    "fish.flee()\n",
    "\n",
    "fish.hunt()"
   ]
  },
  {
   "cell_type": "code",
   "execution_count": 57,
   "metadata": {},
   "outputs": [],
   "source": [
    "## Multi-level Inheritance\n",
    "\n",
    "\n",
    "class Animal:\n",
    "    \n",
    "    def __init__(self, name):\n",
    "        self.name = name\n",
    "    \n",
    "    def eat(self):\n",
    "        print(f\"{self.name} is eating.\")\n",
    "        \n",
    "    def sleep(self):\n",
    "        print(\"This animal is sleeping.\")\n",
    "    \n",
    "class Prey(Animal):\n",
    "    def flee(self):\n",
    "        print(f\"This {self.name} is fleeing.\")\n",
    "        \n",
    "class Preditor(Animal):\n",
    "    def hunt(self):\n",
    "        print(\"This animal is haunting.\")\n",
    "        \n",
    "class Rabbit(Prey):\n",
    "    pass\n",
    "\n",
    "class Hawk(Preditor):\n",
    "    pass\n",
    "\n",
    "class Fish(Prey, Preditor):\n",
    "    pass"
   ]
  },
  {
   "cell_type": "code",
   "execution_count": null,
   "metadata": {},
   "outputs": [
    {
     "name": "stdout",
     "output_type": "stream",
     "text": [
      "This animal is fleeing.\n",
      "This animal is eating.\n"
     ]
    }
   ],
   "source": [
    "rabbit = Rabbit()\n",
    "\n",
    "rabbit.flee()\n",
    "rabbit.eat()        # multi-level function call in inheritance."
   ]
  },
  {
   "cell_type": "code",
   "execution_count": 58,
   "metadata": {},
   "outputs": [],
   "source": [
    "rabbit = Rabbit('Bugs')\n",
    "hawk = Hawk('Tony')\n",
    "fish = Fish('Nemo')"
   ]
  },
  {
   "cell_type": "code",
   "execution_count": 59,
   "metadata": {},
   "outputs": [
    {
     "name": "stdout",
     "output_type": "stream",
     "text": [
      "This Nemo is fleeing.\n"
     ]
    }
   ],
   "source": [
    "fish = Fish('Nemo')\n",
    "\n",
    "fish.flee()"
   ]
  },
  {
   "cell_type": "markdown",
   "metadata": {},
   "source": [
    "## Super():\n",
    "\n",
    ">   Function used in a child class to call methods from a parent class (superclass).\n",
    "\n",
    "\n",
    ">   Allows you to extend the functionality of the inherited methods."
   ]
  },
  {
   "cell_type": "code",
   "execution_count": null,
   "metadata": {},
   "outputs": [],
   "source": [
    "class Shape:\n",
    "    def __init__(self, color, is_filled):\n",
    "        self.color = color\n",
    "        self.is_filled = is_filled\n",
    "\n",
    "class Circle(Shape):\n",
    "    def __init__(self, color, is_filled, radius):\n",
    "        super().__init__(color, is_filled)\n",
    "        self.radius = radius\n",
    "        \n",
    "class Square(Shape):\n",
    "    def __init__(self, color, is_filled, width):\n",
    "        super().__init__(color, is_filled)\n",
    "        self.width = width\n",
    "        \n",
    "class Traingle(Shape):\n",
    "    def __init__(self, color, is_filled, width, height):\n",
    "        super().__init__(color, is_filled)\n",
    "        self.width = width\n",
    "        self.height = height\n",
    "        \n",
    "\n",
    "\n",
    "circle = Circle(\"Red\", True, 4)\n",
    "square = Square(\"Brown\", False, 3)\n",
    "traingle = Traingle(\"White\", True, 5, 4)"
   ]
  },
  {
   "cell_type": "code",
   "execution_count": 76,
   "metadata": {},
   "outputs": [],
   "source": [
    "circle = Circle(color=\"Red\", is_filled=True, radius=4)\n",
    "square = Square(color=\"Brown\", is_filled=False, width=3)\n",
    "traingle = Traingle(color=\"White\", is_filled=True, width=5, height=4)"
   ]
  },
  {
   "cell_type": "code",
   "execution_count": 77,
   "metadata": {},
   "outputs": [
    {
     "name": "stdout",
     "output_type": "stream",
     "text": [
      "Red\n",
      "True\n",
      "4 cm\n"
     ]
    }
   ],
   "source": [
    "print(circle.color)\n",
    "print(circle.is_filled)\n",
    "print(f'{circle.radius} cm')"
   ]
  },
  {
   "cell_type": "code",
   "execution_count": 79,
   "metadata": {},
   "outputs": [
    {
     "name": "stdout",
     "output_type": "stream",
     "text": [
      "Brown\n",
      "False\n",
      "3\n"
     ]
    }
   ],
   "source": [
    "print(square.color)\n",
    "print(square.is_filled)\n",
    "print(square.width)"
   ]
  },
  {
   "cell_type": "code",
   "execution_count": 80,
   "metadata": {},
   "outputs": [
    {
     "name": "stdout",
     "output_type": "stream",
     "text": [
      "White\n",
      "True\n",
      "5\n"
     ]
    }
   ],
   "source": [
    "print(traingle.color)\n",
    "print(traingle.is_filled)\n",
    "print(traingle.width)"
   ]
  },
  {
   "cell_type": "code",
   "execution_count": 95,
   "metadata": {},
   "outputs": [],
   "source": [
    "class Shape:\n",
    "    def __init__(self, color, is_filled):\n",
    "        self.color = color\n",
    "        self.is_filled = is_filled\n",
    "        \n",
    "    def describe(self):\n",
    "        print(f\"It has {self.color} color and is {'filled' if self.is_filled else 'not filled'}\") \n",
    "\n",
    "class Circle(Shape):\n",
    "    def __init__(self, color, is_filled, radius):\n",
    "        super().__init__(color, is_filled)\n",
    "        self.radius = radius\n",
    "    \n",
    "    def describe(self):\n",
    "        print(f\"It is a circle with an Area {3.14 * self.radius ** 2} cm^2.\")\n",
    "    \n",
    "class Square(Shape):\n",
    "    def __init__(self, color, is_filled, width):\n",
    "        super().__init__(color, is_filled)\n",
    "        self.width = width\n",
    "        \n",
    "    def describe(self):\n",
    "        super().describe()\n",
    "        print(f\"It is a square with an Area {self.width ** 2} cm^2.\")\n",
    "        \n",
    "class Traingle(Shape):\n",
    "    def __init__(self, color, is_filled, width, height):\n",
    "        super().__init__(color, is_filled)\n",
    "        self.width = width\n",
    "        self.height = height\n",
    "        \n",
    "    def describe(self):\n",
    "        print(f\"It is a traingle with an Area {1/2 * self.width * self.height} cm^2.\")\n",
    "        super().describe()\n",
    "\n",
    "\n",
    "circle = Circle(\"Red\", True, 4)\n",
    "square = Square(\"Brown\", False, 3)\n",
    "traingle = Traingle(\"White\", True, 5, 4)"
   ]
  },
  {
   "cell_type": "code",
   "execution_count": 90,
   "metadata": {},
   "outputs": [
    {
     "name": "stdout",
     "output_type": "stream",
     "text": [
      "It is a circle with an Area 50.24 cm^2.\n"
     ]
    }
   ],
   "source": [
    "circle.describe()"
   ]
  },
  {
   "cell_type": "code",
   "execution_count": 91,
   "metadata": {},
   "outputs": [
    {
     "name": "stdout",
     "output_type": "stream",
     "text": [
      "It has Brown color and is not filled\n",
      "It is a square with an Area 9 cm^2.\n"
     ]
    }
   ],
   "source": [
    "square.describe()"
   ]
  },
  {
   "cell_type": "code",
   "execution_count": 96,
   "metadata": {},
   "outputs": [
    {
     "name": "stdout",
     "output_type": "stream",
     "text": [
      "It is a traingle with an Area 10.0 cm^2.\n",
      "It has White color and is filled\n"
     ]
    }
   ],
   "source": [
    "traingle.describe()"
   ]
  },
  {
   "cell_type": "code",
   "execution_count": null,
   "metadata": {},
   "outputs": [],
   "source": []
  }
 ],
 "metadata": {
  "kernelspec": {
   "display_name": "Python 3",
   "language": "python",
   "name": "python3"
  },
  "language_info": {
   "codemirror_mode": {
    "name": "ipython",
    "version": 3
   },
   "file_extension": ".py",
   "mimetype": "text/x-python",
   "name": "python",
   "nbconvert_exporter": "python",
   "pygments_lexer": "ipython3",
   "version": "3.12.2"
  }
 },
 "nbformat": 4,
 "nbformat_minor": 2
}
