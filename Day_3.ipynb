{
 "cells": [
  {
   "cell_type": "markdown",
   "metadata": {},
   "source": [
    "### While Loops:\n",
    "    execute some code WHILE some condition remains true."
   ]
  },
  {
   "cell_type": "code",
   "execution_count": 2,
   "metadata": {},
   "outputs": [
    {
     "name": "stdout",
     "output_type": "stream",
     "text": [
      "You are out of range.\n",
      "You have entered number 5\n"
     ]
    }
   ],
   "source": [
    "# Enter number between 1 and 10.\n",
    "\n",
    "num = int(input(\"Enter a number: \"))\n",
    "\n",
    "while num < 1 or num > 10:\n",
    "    print(\"You are out of range.\")\n",
    "    num = int(input(\"Try another number: \"))\n",
    "    \n",
    "print(f\"You have entered number {num}\")\n"
   ]
  },
  {
   "cell_type": "code",
   "execution_count": null,
   "metadata": {},
   "outputs": [],
   "source": [
    "## Password matching program \n",
    "\n",
    "username = \"Nepali Coder\"\n",
    "password = \"pass@123/abc\"\n",
    "\n",
    "enter_password = input(\"Enter your password: \")\n",
    "attempts = 3\n",
    "\n",
    "\n",
    "while enter_password != password:\n",
    "    print(\"You have entered wrong password.\")\n",
    "    attempts -= 1\n",
    "    if attempts > 0:\n",
    "        enter_password = input(f\"Re-enter your password({attempts} attempts left): \")\n",
    "    else:\n",
    "        print(\"You are out of attempt. Please try again after 60 seconds.\")         ## i need to quit the program if out of attempts.\n",
    "        break\n",
    "    \n",
    "if enter_password == password:\n",
    "    print(f\"The Username \\\"{username}\\\" has been sucessfully logged in.\")    "
   ]
  },
  {
   "cell_type": "markdown",
   "metadata": {},
   "source": [
    "#### Compound Interest Calculator Program\n",
    "\n",
    "\n",
    "A = P*[1+(r/n)]^t"
   ]
  },
  {
   "cell_type": "code",
   "execution_count": 13,
   "metadata": {},
   "outputs": [
    {
     "name": "stdout",
     "output_type": "stream",
     "text": [
      "The total amount you have invested is: Rs.150000.0 in a interest rate of 5.0% for the time of 15.0 years\n",
      "\n",
      "Your interest amount is: Rs.     161839.227\n",
      "Your new balance is:      311839.227\n"
     ]
    }
   ],
   "source": [
    "import math\n",
    "\n",
    "principle = float(input(\"Enter the principle amount(in Rs.): \"))\n",
    "while principle < 0:\n",
    "    principle = float(input(\"Re-enter the principle amount(in Rs.): \"))   \n",
    "     \n",
    "\n",
    "rate = float(input(\"Enter the interest rate(in %): \"))\n",
    "while rate < 0:\n",
    "    rate = float(input(\"Re-enter the interest rate(in %): \"))\n",
    "    \n",
    "    \n",
    "time = float(input(\"Enter the time(in years): \"))\n",
    "while time < 0:\n",
    "    time = float(input(\"Re-enter the time(in years): \"))\n",
    "    \n",
    "\n",
    "def compound_interest(principle, rate, time):\n",
    "    interest_amount = principle*math.pow((1 + rate/100),time) - principle\n",
    "    return interest_amount\n",
    "\n",
    "interest_amount = compound_interest(principle, rate, time)\n",
    "print(f\"The total amount you have invested is: Rs.{principle} in a interest rate of {rate}% for the time of {time} years\")\n",
    "print()\n",
    "print(f\"Your interest amount is: Rs.{interest_amount:15.3f}\")\n",
    "add_interest = input(\"Do you want to add your interest to main balance? (Y/N) \")\n",
    "if add_interest == \"Y\":\n",
    "    print(f\"Your new balance is: Rs.{principle + interest_amount :>15.3f}\")\n",
    "    \n",
    "    \n"
   ]
  },
  {
   "cell_type": "code",
   "execution_count": 12,
   "metadata": {},
   "outputs": [
    {
     "name": "stdout",
     "output_type": "stream",
     "text": [
      "Your new balance is: Rs.           102727.128\n"
     ]
    }
   ],
   "source": [
    "add_interest = input(\"Do you want to add your interest to main balance? (Y/N) \")\n",
    "\n",
    "\n",
    "if add_interest == \"Y\":\n",
    "    print(f\"Your new balance is: Rs. {principle + interest_amount :>.3f}\")"
   ]
  },
  {
   "cell_type": "markdown",
   "metadata": {},
   "source": [
    "### ATM Machine Program"
   ]
  },
  {
   "cell_type": "code",
   "execution_count": null,
   "metadata": {},
   "outputs": [],
   "source": [
    "# Bank Database:\n",
    "def user_details(card_number, password):\n",
    "    # if card_number == \"1234-5678-9012-3455\" and password == \"Hari@pass123\":\n",
    "        username = \"Hari prasad sapkota\"\n",
    "        address = \"Damak\"\n",
    "        phone_no = \"9812343558\"\n",
    "        atm_pin = \"1188\"\n",
    "        balance = 45000.0\n",
    "        \n",
    "\n",
    "\n",
    "print(\"Welcome to Nepal_National_Bank !!!\")\n",
    "print(\"This is Cardless ATM Transaction.\")\n",
    "card_number = input(\"Please Enter your card number to begin the transaction.\")\n",
    "\n",
    "while card_number != \"1234-5678-9012-3455\":\n",
    "    print(f\"The Card number {card_number} hasn't been registered in our system. Please try a different one.\")\n",
    "    card_number = input(\"Please Re-enter your card number: \")\n",
    "    \n",
    "print(\"Your Card Number is identified.\")\n",
    "password = input(\"Please! Enter your password: \")\n",
    "while password != \"Hari@pass123\":\n",
    "    print(\"Wrong Password. Try again!!!\")\n",
    "    password = input(\"Please! Re-enter your password: \")\n",
    "    \n",
    "print(\"You are sucessfully logged into the system.\")\n",
    "\n",
    "print(\"What type of transaction would to like to perform ?\")\n",
    "print(\"Press \\\"1\\\" to Withdraw amount\\nPress \\\"2\\\" to Deposit amount\\nPress \\\"3\\\" to Check Balance.\")\n",
    "key_pressed = int(\"Enter you choice: \")\n",
    "\n",
    "if key_pressed == 1:\n",
    "    amount_withdraw = float(input(\"Enter the amount you want to withdraw: \"))\n",
    "    while amount_withdraw > user_details(card_number, password).\n",
    "    \n",
    "    \n",
    "\n",
    "### This program will be done using oop concepts later on.\n"
   ]
  },
  {
   "cell_type": "markdown",
   "metadata": {},
   "source": [
    "#### For loops:\n",
    "\n",
    "    execute a block of code a fixed number of times. \n",
    "    You can iterate over a range, string, sequence, etc."
   ]
  },
  {
   "cell_type": "code",
   "execution_count": 16,
   "metadata": {},
   "outputs": [
    {
     "name": "stdout",
     "output_type": "stream",
     "text": [
      "A\n",
      "n\n",
      "y\n",
      "-\n",
      "s\n",
      "o\n",
      "r\n",
      "t\n",
      " \n",
      "o\n",
      "f\n",
      " \n",
      "s\n",
      "t\n",
      "r\n",
      "i\n",
      "n\n",
      "g\n",
      "s\n"
     ]
    }
   ],
   "source": [
    "for i in \"Any-sort of strings\":\n",
    "    print(i)"
   ]
  },
  {
   "cell_type": "code",
   "execution_count": 18,
   "metadata": {},
   "outputs": [
    {
     "name": "stdout",
     "output_type": "stream",
     "text": [
      "A\n",
      "n\n",
      "y\n",
      "-\n",
      "s\n",
      "o\n",
      "r\n",
      "t\n",
      "o\n",
      "f\n",
      "s\n",
      "t\n",
      "r\n",
      "i\n",
      "n\n",
      "g\n",
      "s\n"
     ]
    }
   ],
   "source": [
    "for i in \"Any-sort of strings\":\n",
    "    if i == \" \":\n",
    "        continue\n",
    "    print(i)"
   ]
  },
  {
   "cell_type": "code",
   "execution_count": 14,
   "metadata": {},
   "outputs": [
    {
     "name": "stdout",
     "output_type": "stream",
     "text": [
      "0\n",
      "1\n",
      "2\n"
     ]
    }
   ],
   "source": [
    "for i in range(3):\n",
    "    print(i)"
   ]
  },
  {
   "cell_type": "code",
   "execution_count": 15,
   "metadata": {},
   "outputs": [
    {
     "name": "stdout",
     "output_type": "stream",
     "text": [
      "0\n",
      "1\n",
      "2\n"
     ]
    }
   ],
   "source": [
    "i = 0\n",
    "\n",
    "while i < 5:\n",
    "    print(i)\n",
    "    i += 1\n",
    "    if i == 3:\n",
    "        break\n",
    "    "
   ]
  },
  {
   "cell_type": "code",
   "execution_count": 25,
   "metadata": {},
   "outputs": [
    {
     "name": "stdout",
     "output_type": "stream",
     "text": [
      "10\n",
      "9\n",
      "8\n",
      "7\n",
      "6\n",
      "5\n",
      "4\n",
      "3\n",
      "2\n",
      "1\n"
     ]
    }
   ],
   "source": [
    "# DownCounter Program\n",
    "\n",
    "import time\n",
    "import os\n",
    "\n",
    "for i in range(10,0,-1):\n",
    "    os.system(\"cls\")\n",
    "    print(i)\n",
    "    time.sleep(1)\n",
    "    \n",
    "    \n",
    "    "
   ]
  },
  {
   "cell_type": "code",
   "execution_count": 27,
   "metadata": {},
   "outputs": [
    {
     "name": "stdout",
     "output_type": "stream",
     "text": [
      "10\n",
      "9\n",
      "8\n",
      "7\n",
      "6\n",
      "5\n",
      "4\n",
      "3\n",
      "2\n",
      "1\n"
     ]
    }
   ],
   "source": [
    "# Note: These are the programs for .py files\n",
    "\n",
    "import time\n",
    "import os\n",
    "\n",
    "for i in range(10, 0, -1):\n",
    "    print(f\"\\r{i}\")\n",
    "    time.sleep(1)"
   ]
  },
  {
   "cell_type": "code",
   "execution_count": 31,
   "metadata": {},
   "outputs": [
    {
     "name": "stdout",
     "output_type": "stream",
     "text": [
      "1\n"
     ]
    }
   ],
   "source": [
    "# For jupyter notebook files:\n",
    "\n",
    "import time\n",
    "from IPython.display import clear_output\n",
    "\n",
    "for i in range(10,0,-1):\n",
    "    clear_output()\n",
    "    print(i)\n",
    "    time.sleep(1)"
   ]
  },
  {
   "cell_type": "markdown",
   "metadata": {},
   "source": [
    "#### Write a downcounter program that downcounts from 60 seconds."
   ]
  },
  {
   "cell_type": "code",
   "execution_count": 36,
   "metadata": {},
   "outputs": [
    {
     "name": "stdout",
     "output_type": "stream",
     "text": [
      "00\n"
     ]
    }
   ],
   "source": [
    "import time\n",
    "from IPython.display import clear_output\n",
    "\n",
    "for i in range(10,-1,-1):\n",
    "    clear_output()\n",
    "    print(str(i).zfill(2))\n",
    "    time.sleep(1)"
   ]
  },
  {
   "cell_type": "code",
   "execution_count": 44,
   "metadata": {},
   "outputs": [
    {
     "name": "stdout",
     "output_type": "stream",
     "text": [
      "00 : 00 : 00\n"
     ]
    }
   ],
   "source": [
    "import time \n",
    "from IPython.display import clear_output\n",
    "\n",
    "hour = 2\n",
    "minute = 2\n",
    "seconds = 5\n",
    "\n",
    "for hr in range(hour, -1, -1):\n",
    "    for min in range(minute, -1, -1):\n",
    "        for sec in range(seconds, -1, -1):\n",
    "            clear_output()\n",
    "            print(f\"{str(hr).zfill(2)} : {str(min).zfill(2)} : {str(sec).zfill(2)}\")\n",
    "            time.sleep(1)"
   ]
  },
  {
   "cell_type": "code",
   "execution_count": null,
   "metadata": {},
   "outputs": [],
   "source": []
  }
 ],
 "metadata": {
  "kernelspec": {
   "display_name": "Python 3",
   "language": "python",
   "name": "python3"
  },
  "language_info": {
   "codemirror_mode": {
    "name": "ipython",
    "version": 3
   },
   "file_extension": ".py",
   "mimetype": "text/x-python",
   "name": "python",
   "nbconvert_exporter": "python",
   "pygments_lexer": "ipython3",
   "version": "3.12.2"
  }
 },
 "nbformat": 4,
 "nbformat_minor": 2
}
